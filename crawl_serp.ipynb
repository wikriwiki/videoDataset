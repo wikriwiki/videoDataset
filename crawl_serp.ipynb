{
 "cells": [
  {
   "cell_type": "code",
   "execution_count": null,
   "id": "a2f071da",
   "metadata": {},
   "outputs": [],
   "source": [
    "import os, glob, json, threading, time, requests\n",
    "try:\n",
    "    # Notebook 7 / Jupyter Server\n",
    "    from jupyter_server import serverapp as server_module\n",
    "    list_servers = server_module.list_running_servers\n",
    "except ImportError:\n",
    "    # Classic Notebook\n",
    "    from notebook import notebookapp as server_module\n",
    "    list_servers = server_module.list_running_servers\n",
    "\n",
    "def restart_kernel():\n",
    "    # 1) 연결 파일에서 kernel_id 추출\n",
    "    from jupyter_core.paths import jupyter_runtime_dir\n",
    "    runtime_dir = jupyter_runtime_dir()\n",
    "    cf = max(glob.glob(os.path.join(runtime_dir, 'kernel-*.json')), key=os.path.getmtime)\n",
    "    kernel_id = os.path.basename(cf).replace('kernel-', '').replace('.json', '')\n",
    "    \n",
    "    # 2) 실행 중인 서버 정보 조회\n",
    "    servers = list(list_servers())\n",
    "    if not servers:\n",
    "        print(\"⚠️ 실행 중인 Jupyter 서버를 찾을 수 없습니다.\")\n",
    "        return\n",
    "    srv = servers[0]\n",
    "    url = srv['url']\n",
    "    token = srv.get('token', '')\n",
    "    \n",
    "    # 3) REST API 호출로 커널 재시작\n",
    "    api = f\"{url}api/kernels/{kernel_id}/restart\"\n",
    "    res = requests.post(api, params={'token': token})\n",
    "    if res.ok:\n",
    "        print(f\"🔄 커널 {kernel_id} 재시작 성공 ({time.strftime('%X')})\")\n",
    "    else:\n",
    "        print(f\"❌ 재시작 실패 ({res.status_code}): {res.text}\")\n",
    "\n",
    "def schedule_restart(interval_min=30):\n",
    "    def job():\n",
    "        while True:\n",
    "            time.sleep(interval_min * 60)\n",
    "            restart_kernel()\n",
    "    th = threading.Thread(target=job, daemon=True)\n",
    "    th.start()\n",
    "\n",
    "# 스케줄 시작 (30분마다 재시작)\n",
    "schedule_restart(30)\n",
    "print(\"✅ 30분마다 커널 재시작 스케줄러가 동작 중입니다.\")\n"
   ]
  },
  {
   "cell_type": "code",
   "execution_count": null,
   "id": "d54047b1",
   "metadata": {},
   "outputs": [
    {
     "name": "stdout",
     "output_type": "stream",
     "text": [
      "INFO: Loaded 347 keywords\n",
      "INFO: Loaded 347 keywords\n",
      "INFO: Chunk schedule: 4 chunks (270d, 1d overlap)\n",
      "INFO: Chunk schedule: 4 chunks (270d, 1d overlap)\n"
     ]
    },
    {
     "name": "stderr",
     "output_type": "stream",
     "text": [
      "Keywords:   0%|          | 0/347 [00:00<?, ?it/s]"
     ]
    },
    {
     "name": "stdout",
     "output_type": "stream",
     "text": [
      "INFO: ✔︎  Donald Trump 완료 (885 rows)\n",
      "INFO: ✔︎  Donald Trump 완료 (885 rows)\n"
     ]
    },
    {
     "name": "stderr",
     "output_type": "stream",
     "text": [
      "Keywords:   0%|          | 1/347 [00:00<02:21,  2.44it/s]"
     ]
    },
    {
     "name": "stdout",
     "output_type": "stream",
     "text": [
      "INFO: ✔︎  Joe Biden 완료 (885 rows)\n",
      "INFO: ✔︎  Joe Biden 완료 (885 rows)\n"
     ]
    },
    {
     "name": "stderr",
     "output_type": "stream",
     "text": [
      "Keywords:   1%|          | 2/347 [00:00<02:22,  2.43it/s]"
     ]
    },
    {
     "name": "stdout",
     "output_type": "stream",
     "text": [
      "INFO: ✔︎  Pope Francis 완료 (885 rows)\n",
      "INFO: ✔︎  Pope Francis 완료 (885 rows)\n"
     ]
    },
    {
     "name": "stderr",
     "output_type": "stream",
     "text": [
      "Keywords:   1%|          | 3/347 [00:01<02:31,  2.27it/s]"
     ]
    },
    {
     "name": "stdout",
     "output_type": "stream",
     "text": [
      "INFO: ✔︎  Benjamin Netanyahu 완료 (885 rows)\n",
      "INFO: ✔︎  Benjamin Netanyahu 완료 (885 rows)\n"
     ]
    },
    {
     "name": "stderr",
     "output_type": "stream",
     "text": [
      "Keywords:   1%|          | 4/347 [00:01<02:27,  2.32it/s]"
     ]
    },
    {
     "name": "stdout",
     "output_type": "stream",
     "text": [
      "INFO: ⏭  Kamala Harris skipped  – zero start/end\n",
      "INFO: ⏭  Kamala Harris skipped  – zero start/end\n"
     ]
    },
    {
     "name": "stderr",
     "output_type": "stream",
     "text": [
      "Keywords:   1%|▏         | 5/347 [00:02<02:24,  2.36it/s]"
     ]
    },
    {
     "name": "stdout",
     "output_type": "stream",
     "text": [
      "INFO: ✔︎  Taylor Swift 완료 (885 rows)\n",
      "INFO: ✔︎  Taylor Swift 완료 (885 rows)\n"
     ]
    },
    {
     "name": "stderr",
     "output_type": "stream",
     "text": [
      "Keywords:   2%|▏         | 6/347 [00:02<02:27,  2.32it/s]"
     ]
    },
    {
     "name": "stdout",
     "output_type": "stream",
     "text": [
      "INFO: ✔︎  Elon Musk 완료 (885 rows)\n",
      "INFO: ✔︎  Elon Musk 완료 (885 rows)\n"
     ]
    },
    {
     "name": "stderr",
     "output_type": "stream",
     "text": [
      "Keywords:   2%|▏         | 7/347 [00:02<02:22,  2.39it/s]"
     ]
    },
    {
     "name": "stdout",
     "output_type": "stream",
     "text": [
      "INFO: ✔︎  Narendra Modi 완료 (885 rows)\n",
      "INFO: ✔︎  Narendra Modi 완료 (885 rows)\n"
     ]
    },
    {
     "name": "stderr",
     "output_type": "stream",
     "text": [
      "Keywords:   2%|▏         | 8/347 [00:03<02:20,  2.41it/s]"
     ]
    },
    {
     "name": "stdout",
     "output_type": "stream",
     "text": [
      "INFO: ✔︎  Cristiano Ronaldo 완료 (885 rows)\n",
      "INFO: ✔︎  Cristiano Ronaldo 완료 (885 rows)\n"
     ]
    },
    {
     "name": "stderr",
     "output_type": "stream",
     "text": [
      "Keywords:   3%|▎         | 9/347 [00:03<02:17,  2.45it/s]"
     ]
    },
    {
     "name": "stdout",
     "output_type": "stream",
     "text": [
      "INFO: ✔︎  Keir Starmer 완료 (885 rows)\n",
      "INFO: ✔︎  Keir Starmer 완료 (885 rows)\n"
     ]
    },
    {
     "name": "stderr",
     "output_type": "stream",
     "text": [
      "Keywords:   3%|▎         | 10/347 [00:04<02:15,  2.49it/s]"
     ]
    },
    {
     "name": "stdout",
     "output_type": "stream",
     "text": [
      "INFO: ✔︎  Hunter Biden 완료 (885 rows)\n",
      "INFO: ✔︎  Hunter Biden 완료 (885 rows)\n"
     ]
    },
    {
     "name": "stderr",
     "output_type": "stream",
     "text": [
      "Keywords:   3%|▎         | 11/347 [00:04<02:12,  2.53it/s]"
     ]
    },
    {
     "name": "stdout",
     "output_type": "stream",
     "text": [
      "INFO: ✔︎  King Charles 완료 (885 rows)\n",
      "INFO: ✔︎  King Charles 완료 (885 rows)\n"
     ]
    },
    {
     "name": "stderr",
     "output_type": "stream",
     "text": [
      "Keywords:   3%|▎         | 12/347 [00:04<02:12,  2.54it/s]"
     ]
    },
    {
     "name": "stdout",
     "output_type": "stream",
     "text": [
      "INFO: ✔︎  Rahul Gandhi 완료 (885 rows)\n",
      "INFO: ✔︎  Rahul Gandhi 완료 (885 rows)\n"
     ]
    },
    {
     "name": "stderr",
     "output_type": "stream",
     "text": [
      "Keywords:   4%|▎         | 13/347 [00:05<02:12,  2.52it/s]"
     ]
    },
    {
     "name": "stdout",
     "output_type": "stream",
     "text": [
      "INFO: ✔︎  Anthony Albanese 완료 (885 rows)\n",
      "INFO: ✔︎  Anthony Albanese 완료 (885 rows)\n"
     ]
    },
    {
     "name": "stderr",
     "output_type": "stream",
     "text": [
      "Keywords:   4%|▍         | 14/347 [00:05<02:09,  2.56it/s]"
     ]
    },
    {
     "name": "stdout",
     "output_type": "stream",
     "text": [
      "INFO: ✔︎  Barack Obama 완료 (885 rows)\n",
      "INFO: ✔︎  Barack Obama 완료 (885 rows)\n"
     ]
    },
    {
     "name": "stderr",
     "output_type": "stream",
     "text": [
      "Keywords:   4%|▍         | 15/347 [00:06<02:09,  2.57it/s]"
     ]
    },
    {
     "name": "stdout",
     "output_type": "stream",
     "text": [
      "INFO: ✔︎  Justin Trudeau 완료 (885 rows)\n",
      "INFO: ✔︎  Justin Trudeau 완료 (885 rows)\n"
     ]
    },
    {
     "name": "stderr",
     "output_type": "stream",
     "text": [
      "Keywords:   5%|▍         | 16/347 [00:06<02:07,  2.60it/s]"
     ]
    },
    {
     "name": "stdout",
     "output_type": "stream",
     "text": [
      "INFO: ✔︎  Antony Blinken 완료 (885 rows)\n",
      "INFO: ✔︎  Antony Blinken 완료 (885 rows)\n"
     ]
    },
    {
     "name": "stderr",
     "output_type": "stream",
     "text": [
      "Keywords:   5%|▍         | 17/347 [00:06<02:11,  2.51it/s]"
     ]
    },
    {
     "name": "stdout",
     "output_type": "stream",
     "text": [
      "INFO: ✔︎  Imran Khan 완료 (885 rows)\n",
      "INFO: ✔︎  Imran Khan 완료 (885 rows)\n"
     ]
    },
    {
     "name": "stderr",
     "output_type": "stream",
     "text": [
      "Keywords:   5%|▌         | 18/347 [00:07<02:09,  2.55it/s]"
     ]
    },
    {
     "name": "stdout",
     "output_type": "stream",
     "text": [
      "INFO: ✔︎  Boris Johnson 완료 (885 rows)\n",
      "INFO: ✔︎  Boris Johnson 완료 (885 rows)\n"
     ]
    },
    {
     "name": "stderr",
     "output_type": "stream",
     "text": [
      "Keywords:   5%|▌         | 19/347 [00:07<02:07,  2.57it/s]"
     ]
    },
    {
     "name": "stdout",
     "output_type": "stream",
     "text": [
      "INFO: ⏭  Jens Stoltenberg skipped  – zero start/end\n",
      "INFO: ⏭  Jens Stoltenberg skipped  – zero start/end\n"
     ]
    },
    {
     "name": "stderr",
     "output_type": "stream",
     "text": [
      "Keywords:   6%|▌         | 20/347 [00:08<02:04,  2.63it/s]"
     ]
    },
    {
     "name": "stdout",
     "output_type": "stream",
     "text": [
      "INFO: ⏭  Alexander Lukashenko skipped  – zero start/end\n",
      "INFO: ⏭  Alexander Lukashenko skipped  – zero start/end\n"
     ]
    },
    {
     "name": "stderr",
     "output_type": "stream",
     "text": [
      "Keywords:   6%|▌         | 21/347 [00:08<02:03,  2.64it/s]"
     ]
    },
    {
     "name": "stdout",
     "output_type": "stream",
     "text": [
      "INFO: ✔︎  Volodymyr Zelenskyy 완료 (885 rows)\n",
      "INFO: ✔︎  Volodymyr Zelenskyy 완료 (885 rows)\n"
     ]
    },
    {
     "name": "stderr",
     "output_type": "stream",
     "text": [
      "Keywords:   6%|▋         | 22/347 [00:08<02:03,  2.64it/s]"
     ]
    },
    {
     "name": "stdout",
     "output_type": "stream",
     "text": [
      "INFO: ⏭  Alexander Ovechkin skipped  – zero start/end\n",
      "INFO: ⏭  Alexander Ovechkin skipped  – zero start/end\n"
     ]
    },
    {
     "name": "stderr",
     "output_type": "stream",
     "text": [
      "Keywords:   7%|▋         | 23/347 [00:09<02:02,  2.65it/s]"
     ]
    },
    {
     "name": "stdout",
     "output_type": "stream",
     "text": [
      "INFO: ⏭  Nikki Haley skipped  – zero start/end\n",
      "INFO: ⏭  Nikki Haley skipped  – zero start/end\n"
     ]
    },
    {
     "name": "stderr",
     "output_type": "stream",
     "text": [
      "Keywords:   7%|▋         | 24/347 [00:09<02:01,  2.66it/s]"
     ]
    },
    {
     "name": "stdout",
     "output_type": "stream",
     "text": [
      "INFO: ⏭  Peter Dutton skipped  – zero start/end\n",
      "INFO: ⏭  Peter Dutton skipped  – zero start/end\n"
     ]
    },
    {
     "name": "stderr",
     "output_type": "stream",
     "text": [
      "Keywords:   7%|▋         | 25/347 [00:09<02:00,  2.67it/s]"
     ]
    },
    {
     "name": "stdout",
     "output_type": "stream",
     "text": [
      "INFO: ⏭  Lloyd Austin skipped  – zero start/end\n",
      "INFO: ⏭  Lloyd Austin skipped  – zero start/end\n"
     ]
    },
    {
     "name": "stderr",
     "output_type": "stream",
     "text": [
      "Keywords:   7%|▋         | 26/347 [00:10<01:58,  2.70it/s]"
     ]
    },
    {
     "name": "stdout",
     "output_type": "stream",
     "text": [
      "INFO: ⏭  Mike Johnson skipped  – zero start/end\n",
      "INFO: ⏭  Mike Johnson skipped  – zero start/end\n"
     ]
    },
    {
     "name": "stderr",
     "output_type": "stream",
     "text": [
      "Keywords:   8%|▊         | 27/347 [00:10<01:59,  2.68it/s]"
     ]
    },
    {
     "name": "stdout",
     "output_type": "stream",
     "text": [
      "INFO: ✔︎  Travis Kelce 완료 (885 rows)\n",
      "INFO: ✔︎  Travis Kelce 완료 (885 rows)\n"
     ]
    },
    {
     "name": "stderr",
     "output_type": "stream",
     "text": [
      "Keywords:   8%|▊         | 28/347 [00:11<01:59,  2.66it/s]"
     ]
    },
    {
     "name": "stdout",
     "output_type": "stream",
     "text": [
      "INFO: ⏭  Sheikh Hasina skipped  – zero start/end\n",
      "INFO: ⏭  Sheikh Hasina skipped  – zero start/end\n"
     ]
    },
    {
     "name": "stderr",
     "output_type": "stream",
     "text": [
      "Keywords:   8%|▊         | 29/347 [00:11<01:58,  2.69it/s]"
     ]
    },
    {
     "name": "stdout",
     "output_type": "stream",
     "text": [
      "INFO: ✔︎  Gavin Newsom 완료 (885 rows)\n",
      "INFO: ✔︎  Gavin Newsom 완료 (885 rows)\n"
     ]
    },
    {
     "name": "stderr",
     "output_type": "stream",
     "text": [
      "Keywords:   9%|▊         | 30/347 [00:11<01:58,  2.69it/s]"
     ]
    },
    {
     "name": "stdout",
     "output_type": "stream",
     "text": [
      "INFO: ✔︎  Amit Shah 완료 (885 rows)\n",
      "INFO: ✔︎  Amit Shah 완료 (885 rows)\n"
     ]
    },
    {
     "name": "stderr",
     "output_type": "stream",
     "text": [
      "Keywords:   9%|▉         | 31/347 [00:12<01:57,  2.69it/s]"
     ]
    },
    {
     "name": "stdout",
     "output_type": "stream",
     "text": [
      "INFO: ✔︎  Hillary Clinton 완료 (885 rows)\n",
      "INFO: ✔︎  Hillary Clinton 완료 (885 rows)\n"
     ]
    },
    {
     "name": "stderr",
     "output_type": "stream",
     "text": [
      "Keywords:   9%|▉         | 32/347 [00:12<02:01,  2.59it/s]"
     ]
    },
    {
     "name": "stdout",
     "output_type": "stream",
     "text": [
      "INFO: ⏭  Dmitry Peskov skipped  – zero start/end\n",
      "INFO: ⏭  Dmitry Peskov skipped  – zero start/end\n"
     ]
    },
    {
     "name": "stderr",
     "output_type": "stream",
     "text": [
      "Keywords:  10%|▉         | 33/347 [00:12<02:06,  2.48it/s]"
     ]
    },
    {
     "name": "stdout",
     "output_type": "stream",
     "text": [
      "INFO: ⏭  Jimmy Carter skipped  – zero start/end\n",
      "INFO: ⏭  Jimmy Carter skipped  – zero start/end\n"
     ]
    },
    {
     "name": "stderr",
     "output_type": "stream",
     "text": [
      "Keywords:  10%|▉         | 34/347 [00:13<02:03,  2.53it/s]"
     ]
    },
    {
     "name": "stdout",
     "output_type": "stream",
     "text": [
      "INFO: ⏭  Tim Walz skipped  – zero start/end\n",
      "INFO: ⏭  Tim Walz skipped  – zero start/end\n"
     ]
    },
    {
     "name": "stderr",
     "output_type": "stream",
     "text": [
      "Keywords:  10%|█         | 35/347 [00:13<02:00,  2.59it/s]"
     ]
    },
    {
     "name": "stdout",
     "output_type": "stream",
     "text": [
      "INFO: ⏭  Ramzan Kadyrov skipped  – zero start/end\n",
      "INFO: ⏭  Ramzan Kadyrov skipped  – zero start/end\n"
     ]
    },
    {
     "name": "stderr",
     "output_type": "stream",
     "text": [
      "Keywords:  10%|█         | 36/347 [00:14<01:58,  2.64it/s]"
     ]
    },
    {
     "name": "stdout",
     "output_type": "stream",
     "text": [
      "INFO: ✔︎  Marco Rubio 완료 (885 rows)\n",
      "INFO: ✔︎  Marco Rubio 완료 (885 rows)\n"
     ]
    },
    {
     "name": "stderr",
     "output_type": "stream",
     "text": [
      "Keywords:  11%|█         | 37/347 [00:14<01:58,  2.62it/s]"
     ]
    },
    {
     "name": "stdout",
     "output_type": "stream",
     "text": [
      "INFO: ✔︎  Michael Cohen 완료 (885 rows)\n",
      "INFO: ✔︎  Michael Cohen 완료 (885 rows)\n"
     ]
    },
    {
     "name": "stderr",
     "output_type": "stream",
     "text": [
      "Keywords:  11%|█         | 38/347 [00:14<01:59,  2.58it/s]"
     ]
    },
    {
     "name": "stdout",
     "output_type": "stream",
     "text": [
      "INFO: ✔︎  Arvind Kejriwal 완료 (885 rows)\n",
      "INFO: ✔︎  Arvind Kejriwal 완료 (885 rows)\n"
     ]
    },
    {
     "name": "stderr",
     "output_type": "stream",
     "text": [
      "Keywords:  11%|█         | 39/347 [00:15<02:02,  2.52it/s]"
     ]
    },
    {
     "name": "stdout",
     "output_type": "stream",
     "text": [
      "INFO: ✔︎  Jerome Powell 완료 (885 rows)\n",
      "INFO: ✔︎  Jerome Powell 완료 (885 rows)\n"
     ]
    },
    {
     "name": "stderr",
     "output_type": "stream",
     "text": [
      "Keywords:  12%|█▏        | 40/347 [00:15<02:01,  2.53it/s]"
     ]
    },
    {
     "name": "stdout",
     "output_type": "stream",
     "text": [
      "INFO: ✔︎  Elton John 완료 (885 rows)\n",
      "INFO: ✔︎  Elton John 완료 (885 rows)\n"
     ]
    },
    {
     "name": "stderr",
     "output_type": "stream",
     "text": [
      "Keywords:  12%|█▏        | 41/347 [00:16<02:00,  2.54it/s]"
     ]
    },
    {
     "name": "stdout",
     "output_type": "stream",
     "text": [
      "INFO: ⏭  Kate Middleton skipped  – zero start/end\n",
      "INFO: ⏭  Kate Middleton skipped  – zero start/end\n"
     ]
    },
    {
     "name": "stderr",
     "output_type": "stream",
     "text": [
      "Keywords:  12%|█▏        | 42/347 [00:16<01:57,  2.60it/s]"
     ]
    },
    {
     "name": "stdout",
     "output_type": "stream",
     "text": [
      "INFO: ⏭  Queen Camilla skipped  – zero start/end\n",
      "INFO: ⏭  Queen Camilla skipped  – zero start/end\n"
     ]
    },
    {
     "name": "stderr",
     "output_type": "stream",
     "text": [
      "Keywords:  12%|█▏        | 43/347 [00:16<01:54,  2.65it/s]"
     ]
    },
    {
     "name": "stdout",
     "output_type": "stream",
     "text": [
      "INFO: ✔︎  Jennifer Lopez 완료 (885 rows)\n",
      "INFO: ✔︎  Jennifer Lopez 완료 (885 rows)\n"
     ]
    },
    {
     "name": "stderr",
     "output_type": "stream",
     "text": [
      "Keywords:  13%|█▎        | 44/347 [00:17<01:55,  2.63it/s]"
     ]
    },
    {
     "name": "stdout",
     "output_type": "stream",
     "text": [
      "INFO: ✔︎  Novak Djokovic 완료 (885 rows)\n",
      "INFO: ✔︎  Novak Djokovic 완료 (885 rows)\n"
     ]
    },
    {
     "name": "stderr",
     "output_type": "stream",
     "text": [
      "Keywords:  13%|█▎        | 45/347 [00:17<01:57,  2.58it/s]"
     ]
    },
    {
     "name": "stdout",
     "output_type": "stream",
     "text": [
      "INFO: ✔︎  Kim Kardashian 완료 (885 rows)\n",
      "INFO: ✔︎  Kim Kardashian 완료 (885 rows)\n"
     ]
    },
    {
     "name": "stderr",
     "output_type": "stream",
     "text": [
      "Keywords:  13%|█▎        | 46/347 [00:17<01:56,  2.59it/s]"
     ]
    },
    {
     "name": "stdout",
     "output_type": "stream",
     "text": [
      "INFO: ✔︎  Lady Gaga 완료 (885 rows)\n",
      "INFO: ✔︎  Lady Gaga 완료 (885 rows)\n"
     ]
    },
    {
     "name": "stderr",
     "output_type": "stream",
     "text": [
      "Keywords:  14%|█▎        | 47/347 [00:18<01:55,  2.59it/s]"
     ]
    },
    {
     "name": "stdout",
     "output_type": "stream",
     "text": [
      "INFO: ✔︎  Bill Clinton 완료 (885 rows)\n",
      "INFO: ✔︎  Bill Clinton 완료 (885 rows)\n"
     ]
    },
    {
     "name": "stderr",
     "output_type": "stream",
     "text": [
      "Keywords:  14%|█▍        | 48/347 [00:18<01:55,  2.59it/s]"
     ]
    },
    {
     "name": "stdout",
     "output_type": "stream",
     "text": [
      "INFO: ✔︎  Warren Buffett 완료 (885 rows)\n",
      "INFO: ✔︎  Warren Buffett 완료 (885 rows)\n"
     ]
    },
    {
     "name": "stderr",
     "output_type": "stream",
     "text": [
      "Keywords:  14%|█▍        | 49/347 [00:19<01:55,  2.58it/s]"
     ]
    },
    {
     "name": "stdout",
     "output_type": "stream",
     "text": [
      "INFO: ⏭  Stormy Daniels skipped  – zero start/end\n",
      "INFO: ⏭  Stormy Daniels skipped  – zero start/end\n"
     ]
    },
    {
     "name": "stderr",
     "output_type": "stream",
     "text": [
      "Keywords:  14%|█▍        | 50/347 [00:19<01:52,  2.63it/s]"
     ]
    },
    {
     "name": "stdout",
     "output_type": "stream",
     "text": [
      "INFO: ✔︎  Mike Pence 완료 (885 rows)\n",
      "INFO: ✔︎  Mike Pence 완료 (885 rows)\n"
     ]
    },
    {
     "name": "stderr",
     "output_type": "stream",
     "text": [
      "Keywords:  15%|█▍        | 51/347 [00:19<01:53,  2.60it/s]"
     ]
    },
    {
     "name": "stdout",
     "output_type": "stream",
     "text": [
      "WARNING: Nikita Mikhalkov: No data 2024-06-22 → 2025-03-18\n",
      "WARNING: Nikita Mikhalkov: No data 2024-06-22 → 2025-03-18\n",
      "INFO: ⏭  Nikita Mikhalkov skipped  – zero start/end\n",
      "INFO: ⏭  Nikita Mikhalkov skipped  – zero start/end\n"
     ]
    },
    {
     "name": "stderr",
     "output_type": "stream",
     "text": [
      "Keywords:  15%|█▍        | 52/347 [00:20<01:43,  2.86it/s]"
     ]
    },
    {
     "name": "stdout",
     "output_type": "stream",
     "text": [
      "INFO: ⏭  Rachel Reeves skipped  – zero start/end\n",
      "INFO: ⏭  Rachel Reeves skipped  – zero start/end\n"
     ]
    },
    {
     "name": "stderr",
     "output_type": "stream",
     "text": [
      "Keywords:  15%|█▌        | 53/347 [00:20<01:44,  2.80it/s]"
     ]
    },
    {
     "name": "stdout",
     "output_type": "stream",
     "text": [
      "INFO: ✔︎  Kanye West 완료 (885 rows)\n",
      "INFO: ✔︎  Kanye West 완료 (885 rows)\n"
     ]
    },
    {
     "name": "stderr",
     "output_type": "stream",
     "text": [
      "Keywords:  16%|█▌        | 54/347 [00:20<01:50,  2.65it/s]"
     ]
    },
    {
     "name": "stdout",
     "output_type": "stream",
     "text": [
      "INFO: ✔︎  Morgan Wallen 완료 (885 rows)\n",
      "INFO: ✔︎  Morgan Wallen 완료 (885 rows)\n"
     ]
    },
    {
     "name": "stderr",
     "output_type": "stream",
     "text": [
      "Keywords:  16%|█▌        | 55/347 [00:21<01:54,  2.55it/s]"
     ]
    },
    {
     "name": "stdout",
     "output_type": "stream",
     "text": [
      "INFO: ✔︎  Dolly Parton 완료 (885 rows)\n",
      "INFO: ✔︎  Dolly Parton 완료 (885 rows)\n"
     ]
    },
    {
     "name": "stderr",
     "output_type": "stream",
     "text": [
      "Keywords:  16%|█▌        | 56/347 [00:21<01:54,  2.55it/s]"
     ]
    },
    {
     "name": "stdout",
     "output_type": "stream",
     "text": [
      "INFO: ✔︎  Britney Spears 완료 (885 rows)\n",
      "INFO: ✔︎  Britney Spears 완료 (885 rows)\n"
     ]
    },
    {
     "name": "stderr",
     "output_type": "stream",
     "text": [
      "Keywords:  16%|█▋        | 57/347 [00:22<01:53,  2.56it/s]"
     ]
    },
    {
     "name": "stdout",
     "output_type": "stream",
     "text": [
      "INFO: ✔︎  Salman Khan 완료 (885 rows)\n",
      "INFO: ✔︎  Salman Khan 완료 (885 rows)\n"
     ]
    },
    {
     "name": "stderr",
     "output_type": "stream",
     "text": [
      "Keywords:  17%|█▋        | 58/347 [00:22<01:55,  2.50it/s]"
     ]
    },
    {
     "name": "stdout",
     "output_type": "stream",
     "text": [
      "INFO: ✔︎  Olaf Scholz 완료 (885 rows)\n",
      "INFO: ✔︎  Olaf Scholz 완료 (885 rows)\n"
     ]
    },
    {
     "name": "stderr",
     "output_type": "stream",
     "text": [
      "Keywords:  17%|█▋        | 59/347 [00:22<01:53,  2.53it/s]"
     ]
    },
    {
     "name": "stdout",
     "output_type": "stream",
     "text": [
      "INFO: ✔︎  Mark Zuckerberg 완료 (885 rows)\n",
      "INFO: ✔︎  Mark Zuckerberg 완료 (885 rows)\n"
     ]
    },
    {
     "name": "stderr",
     "output_type": "stream",
     "text": [
      "Keywords:  17%|█▋        | 60/347 [00:23<01:52,  2.55it/s]"
     ]
    },
    {
     "name": "stdout",
     "output_type": "stream",
     "text": [
      "INFO: ⏭  Silvio Berlusconi skipped  – zero start/end\n",
      "INFO: ⏭  Silvio Berlusconi skipped  – zero start/end\n"
     ]
    },
    {
     "name": "stderr",
     "output_type": "stream",
     "text": [
      "Keywords:  18%|█▊        | 61/347 [00:23<01:50,  2.59it/s]"
     ]
    },
    {
     "name": "stdout",
     "output_type": "stream",
     "text": [
      "INFO: ✔︎  Jill Biden 완료 (885 rows)\n",
      "INFO: ✔︎  Jill Biden 완료 (885 rows)\n"
     ]
    },
    {
     "name": "stderr",
     "output_type": "stream",
     "text": [
      "Keywords:  18%|█▊        | 62/347 [00:24<01:49,  2.59it/s]"
     ]
    },
    {
     "name": "stdout",
     "output_type": "stream",
     "text": [
      "INFO: ⏭  Tucker Carlson skipped  – zero start/end\n",
      "INFO: ⏭  Tucker Carlson skipped  – zero start/end\n"
     ]
    },
    {
     "name": "stderr",
     "output_type": "stream",
     "text": [
      "Keywords:  18%|█▊        | 63/347 [00:24<01:47,  2.63it/s]"
     ]
    },
    {
     "name": "stdout",
     "output_type": "stream",
     "text": [
      "INFO: ✔︎  Nancy Pelosi 완료 (885 rows)\n",
      "INFO: ✔︎  Nancy Pelosi 완료 (885 rows)\n"
     ]
    },
    {
     "name": "stderr",
     "output_type": "stream",
     "text": [
      "Keywords:  18%|█▊        | 64/347 [00:24<01:48,  2.61it/s]"
     ]
    },
    {
     "name": "stdout",
     "output_type": "stream",
     "text": [
      "INFO: ✔︎  Kendrick Lamar 완료 (885 rows)\n",
      "INFO: ✔︎  Kendrick Lamar 완료 (885 rows)\n"
     ]
    },
    {
     "name": "stderr",
     "output_type": "stream",
     "text": [
      "Keywords:  19%|█▊        | 65/347 [00:25<01:47,  2.62it/s]"
     ]
    },
    {
     "name": "stdout",
     "output_type": "stream",
     "text": [
      "INFO: ⏭  Ajit Pawar skipped  – zero start/end\n",
      "INFO: ⏭  Ajit Pawar skipped  – zero start/end\n"
     ]
    },
    {
     "name": "stderr",
     "output_type": "stream",
     "text": [
      "Keywords:  19%|█▉        | 66/347 [00:25<01:50,  2.54it/s]"
     ]
    },
    {
     "name": "stdout",
     "output_type": "stream",
     "text": [
      "WARNING: Denis Pushilin: No data 2023-09-27 → 2024-06-22\n",
      "WARNING: Denis Pushilin: No data 2023-09-27 → 2024-06-22\n",
      "WARNING: Denis Pushilin: No data 2024-06-22 → 2025-03-18\n",
      "WARNING: Denis Pushilin: No data 2024-06-22 → 2025-03-18\n",
      "WARNING: Denis Pushilin: No data 2025-03-18 → 2025-05-31\n",
      "WARNING: Denis Pushilin: No data 2025-03-18 → 2025-05-31\n",
      "INFO: ⏭  Denis Pushilin skipped  – zero start/end\n",
      "INFO: ⏭  Denis Pushilin skipped  – zero start/end\n"
     ]
    },
    {
     "name": "stderr",
     "output_type": "stream",
     "text": [
      "Keywords:  19%|█▉        | 67/347 [00:25<01:28,  3.18it/s]"
     ]
    },
    {
     "name": "stdout",
     "output_type": "stream",
     "text": [
      "INFO: ✔︎  Selena Gomez 완료 (885 rows)\n",
      "INFO: ✔︎  Selena Gomez 완료 (885 rows)\n"
     ]
    },
    {
     "name": "stderr",
     "output_type": "stream",
     "text": [
      "Keywords:  20%|█▉        | 68/347 [00:26<01:35,  2.92it/s]"
     ]
    },
    {
     "name": "stdout",
     "output_type": "stream",
     "text": [
      "INFO: ✔︎  Bill Gates 완료 (885 rows)\n",
      "INFO: ✔︎  Bill Gates 완료 (885 rows)\n"
     ]
    },
    {
     "name": "stderr",
     "output_type": "stream",
     "text": [
      "Keywords:  20%|█▉        | 69/347 [00:26<01:39,  2.79it/s]"
     ]
    },
    {
     "name": "stdout",
     "output_type": "stream",
     "text": [
      "INFO: ✔︎  Ariana Grande 완료 (885 rows)\n",
      "INFO: ✔︎  Ariana Grande 완료 (885 rows)\n"
     ]
    },
    {
     "name": "stderr",
     "output_type": "stream",
     "text": [
      "Keywords:  20%|██        | 70/347 [00:26<01:41,  2.73it/s]"
     ]
    },
    {
     "name": "stdout",
     "output_type": "stream",
     "text": [
      "INFO: ✔︎  Janet Yellen 완료 (885 rows)\n",
      "INFO: ✔︎  Janet Yellen 완료 (885 rows)\n"
     ]
    },
    {
     "name": "stderr",
     "output_type": "stream",
     "text": [
      "Keywords:  20%|██        | 71/347 [00:27<01:45,  2.63it/s]"
     ]
    },
    {
     "name": "stdout",
     "output_type": "stream",
     "text": [
      "INFO: ✔︎  Greg Abbott 완료 (885 rows)\n",
      "INFO: ✔︎  Greg Abbott 완료 (885 rows)\n"
     ]
    },
    {
     "name": "stderr",
     "output_type": "stream",
     "text": [
      "Keywords:  21%|██        | 72/347 [00:27<01:44,  2.63it/s]"
     ]
    },
    {
     "name": "stdout",
     "output_type": "stream",
     "text": [
      "INFO: ✔︎  Mohamed Salah 완료 (885 rows)\n",
      "INFO: ✔︎  Mohamed Salah 완료 (885 rows)\n"
     ]
    },
    {
     "name": "stderr",
     "output_type": "stream",
     "text": [
      "Keywords:  21%|██        | 73/347 [00:28<01:47,  2.55it/s]"
     ]
    },
    {
     "name": "stdout",
     "output_type": "stream",
     "text": [
      "INFO: ⏭  Eric Adams skipped  – zero start/end\n",
      "INFO: ⏭  Eric Adams skipped  – zero start/end\n"
     ]
    },
    {
     "name": "stderr",
     "output_type": "stream",
     "text": [
      "Keywords:  21%|██▏       | 74/347 [00:28<01:45,  2.59it/s]"
     ]
    },
    {
     "name": "stdout",
     "output_type": "stream",
     "text": [
      "INFO: ⏭  Fumio Kishida skipped  – zero start/end\n",
      "INFO: ⏭  Fumio Kishida skipped  – zero start/end\n"
     ]
    },
    {
     "name": "stderr",
     "output_type": "stream",
     "text": [
      "Keywords:  22%|██▏       | 75/347 [00:28<01:43,  2.64it/s]"
     ]
    },
    {
     "name": "stdout",
     "output_type": "stream",
     "text": [
      "INFO: ✔︎  Sharad Pawar 완료 (885 rows)\n",
      "INFO: ✔︎  Sharad Pawar 완료 (885 rows)\n"
     ]
    },
    {
     "name": "stderr",
     "output_type": "stream",
     "text": [
      "Keywords:  22%|██▏       | 76/347 [00:29<01:43,  2.62it/s]"
     ]
    },
    {
     "name": "stdout",
     "output_type": "stream",
     "text": [
      "INFO: ⏭  Jeremy Hunt skipped  – zero start/end\n",
      "INFO: ⏭  Jeremy Hunt skipped  – zero start/end\n"
     ]
    },
    {
     "name": "stderr",
     "output_type": "stream",
     "text": [
      "Keywords:  22%|██▏       | 77/347 [00:29<01:41,  2.67it/s]"
     ]
    },
    {
     "name": "stdout",
     "output_type": "stream",
     "text": [
      "INFO: ⏭  Yoon Suk Yeol skipped  – zero start/end\n",
      "INFO: ⏭  Yoon Suk Yeol skipped  – zero start/end\n"
     ]
    },
    {
     "name": "stderr",
     "output_type": "stream",
     "text": [
      "Keywords:  22%|██▏       | 78/347 [00:30<01:39,  2.70it/s]"
     ]
    },
    {
     "name": "stdout",
     "output_type": "stream",
     "text": [
      "INFO: ✔︎  Katy Perry 완료 (885 rows)\n",
      "INFO: ✔︎  Katy Perry 완료 (885 rows)\n"
     ]
    },
    {
     "name": "stderr",
     "output_type": "stream",
     "text": [
      "Keywords:  23%|██▎       | 79/347 [00:30<01:39,  2.68it/s]"
     ]
    },
    {
     "name": "stdout",
     "output_type": "stream",
     "text": [
      "INFO: ⏭  Lisa Marie skipped  – zero start/end\n",
      "INFO: ⏭  Lisa Marie skipped  – zero start/end\n"
     ]
    },
    {
     "name": "stderr",
     "output_type": "stream",
     "text": [
      "Keywords:  23%|██▎       | 80/347 [00:30<01:38,  2.71it/s]"
     ]
    },
    {
     "name": "stdout",
     "output_type": "stream",
     "text": [
      "INFO: ✔︎  Nigel Farage 완료 (885 rows)\n",
      "INFO: ✔︎  Nigel Farage 완료 (885 rows)\n"
     ]
    },
    {
     "name": "stderr",
     "output_type": "stream",
     "text": [
      "Keywords:  23%|██▎       | 81/347 [00:31<01:38,  2.70it/s]"
     ]
    },
    {
     "name": "stdout",
     "output_type": "stream",
     "text": [
      "INFO: ✔︎  Tom Brady 완료 (885 rows)\n",
      "INFO: ✔︎  Tom Brady 완료 (885 rows)\n"
     ]
    },
    {
     "name": "stderr",
     "output_type": "stream",
     "text": [
      "Keywords:  24%|██▎       | 82/347 [00:31<01:38,  2.69it/s]"
     ]
    },
    {
     "name": "stdout",
     "output_type": "stream",
     "text": [
      "INFO: ⏭  Vivek Ramaswamy skipped  – zero start/end\n",
      "INFO: ⏭  Vivek Ramaswamy skipped  – zero start/end\n"
     ]
    },
    {
     "name": "stderr",
     "output_type": "stream",
     "text": [
      "Keywords:  24%|██▍       | 83/347 [00:31<01:39,  2.65it/s]"
     ]
    },
    {
     "name": "stdout",
     "output_type": "stream",
     "text": [
      "INFO: ✔︎  Ben Affleck 완료 (885 rows)\n",
      "INFO: ✔︎  Ben Affleck 완료 (885 rows)\n"
     ]
    },
    {
     "name": "stderr",
     "output_type": "stream",
     "text": [
      "Keywords:  24%|██▍       | 84/347 [00:32<01:41,  2.58it/s]"
     ]
    },
    {
     "name": "stdout",
     "output_type": "stream",
     "text": [
      "INFO: ✔︎  Bob Dylan 완료 (885 rows)\n",
      "INFO: ✔︎  Bob Dylan 완료 (885 rows)\n"
     ]
    },
    {
     "name": "stderr",
     "output_type": "stream",
     "text": [
      "Keywords:  24%|██▍       | 85/347 [00:32<01:42,  2.56it/s]"
     ]
    },
    {
     "name": "stdout",
     "output_type": "stream",
     "text": [
      "INFO: ✔︎  Patrick Mahomes 완료 (885 rows)\n",
      "INFO: ✔︎  Patrick Mahomes 완료 (885 rows)\n"
     ]
    },
    {
     "name": "stderr",
     "output_type": "stream",
     "text": [
      "Keywords:  25%|██▍       | 86/347 [00:33<01:51,  2.35it/s]"
     ]
    },
    {
     "name": "stdout",
     "output_type": "stream",
     "text": [
      "INFO: ⏭  Humza Yousaf skipped  – zero start/end\n",
      "INFO: ⏭  Humza Yousaf skipped  – zero start/end\n"
     ]
    },
    {
     "name": "stderr",
     "output_type": "stream",
     "text": [
      "Keywords:  25%|██▌       | 87/347 [00:33<01:47,  2.43it/s]"
     ]
    },
    {
     "name": "stdout",
     "output_type": "stream",
     "text": [
      "INFO: ✔︎  Kathy Hochul 완료 (885 rows)\n",
      "INFO: ✔︎  Kathy Hochul 완료 (885 rows)\n"
     ]
    },
    {
     "name": "stderr",
     "output_type": "stream",
     "text": [
      "Keywords:  25%|██▌       | 88/347 [00:34<01:52,  2.30it/s]"
     ]
    },
    {
     "name": "stdout",
     "output_type": "stream",
     "text": [
      "INFO: ✔︎  Tom Cruise 완료 (885 rows)\n",
      "INFO: ✔︎  Tom Cruise 완료 (885 rows)\n"
     ]
    },
    {
     "name": "stderr",
     "output_type": "stream",
     "text": [
      "Keywords:  26%|██▌       | 89/347 [00:34<01:53,  2.27it/s]"
     ]
    },
    {
     "name": "stdout",
     "output_type": "stream",
     "text": [
      "INFO: ⏭  Mark Carney skipped  – zero start/end\n",
      "INFO: ⏭  Mark Carney skipped  – zero start/end\n"
     ]
    },
    {
     "name": "stderr",
     "output_type": "stream",
     "text": [
      "Keywords:  26%|██▌       | 90/347 [00:34<01:48,  2.38it/s]"
     ]
    },
    {
     "name": "stdout",
     "output_type": "stream",
     "text": [
      "INFO: ⏭  Jake Sullivan skipped  – zero start/end\n",
      "INFO: ⏭  Jake Sullivan skipped  – zero start/end\n"
     ]
    },
    {
     "name": "stderr",
     "output_type": "stream",
     "text": [
      "Keywords:  26%|██▌       | 91/347 [00:35<01:44,  2.45it/s]"
     ]
    },
    {
     "name": "stdout",
     "output_type": "stream",
     "text": [
      "INFO: ✔︎  Carrie Underwood 완료 (885 rows)\n",
      "INFO: ✔︎  Carrie Underwood 완료 (885 rows)\n"
     ]
    },
    {
     "name": "stderr",
     "output_type": "stream",
     "text": [
      "Keywords:  27%|██▋       | 92/347 [00:35<01:42,  2.50it/s]"
     ]
    },
    {
     "name": "stdout",
     "output_type": "stream",
     "text": [
      "INFO: ⏭  Alvin Bragg skipped  – zero start/end\n",
      "INFO: ⏭  Alvin Bragg skipped  – zero start/end\n"
     ]
    },
    {
     "name": "stderr",
     "output_type": "stream",
     "text": [
      "Keywords:  27%|██▋       | 93/347 [00:36<01:39,  2.55it/s]"
     ]
    },
    {
     "name": "stdout",
     "output_type": "stream",
     "text": [
      "INFO: ✔︎  Billie Eilish 완료 (885 rows)\n",
      "INFO: ✔︎  Billie Eilish 완료 (885 rows)\n"
     ]
    },
    {
     "name": "stderr",
     "output_type": "stream",
     "text": [
      "Keywords:  27%|██▋       | 94/347 [00:36<01:41,  2.50it/s]"
     ]
    },
    {
     "name": "stdout",
     "output_type": "stream",
     "text": [
      "INFO: ⏭  Pete Hegseth skipped  – zero start/end\n",
      "INFO: ⏭  Pete Hegseth skipped  – zero start/end\n"
     ]
    },
    {
     "name": "stderr",
     "output_type": "stream",
     "text": [
      "Keywords:  27%|██▋       | 95/347 [00:36<01:41,  2.49it/s]"
     ]
    },
    {
     "name": "stdout",
     "output_type": "stream",
     "text": [
      "INFO: ✔︎  Bruce Springsteen 완료 (885 rows)\n",
      "INFO: ✔︎  Bruce Springsteen 완료 (885 rows)\n"
     ]
    },
    {
     "name": "stderr",
     "output_type": "stream",
     "text": [
      "Keywords:  28%|██▊       | 96/347 [00:37<01:45,  2.37it/s]"
     ]
    },
    {
     "name": "stdout",
     "output_type": "stream",
     "text": [
      "WARNING: Dmitry Rogozin: No data 2025-03-18 → 2025-05-31\n",
      "WARNING: Dmitry Rogozin: No data 2025-03-18 → 2025-05-31\n",
      "INFO: ⏭  Dmitry Rogozin skipped  – zero start/end\n",
      "INFO: ⏭  Dmitry Rogozin skipped  – zero start/end\n"
     ]
    },
    {
     "name": "stderr",
     "output_type": "stream",
     "text": [
      "Keywords:  28%|██▊       | 97/347 [00:37<01:42,  2.43it/s]"
     ]
    },
    {
     "name": "stdout",
     "output_type": "stream",
     "text": [
      "INFO: ⏭  Suella Braverman skipped  – zero start/end\n",
      "INFO: ⏭  Suella Braverman skipped  – zero start/end\n"
     ]
    },
    {
     "name": "stderr",
     "output_type": "stream",
     "text": [
      "Keywords:  28%|██▊       | 98/347 [00:38<01:49,  2.28it/s]"
     ]
    },
    {
     "name": "stdout",
     "output_type": "stream",
     "text": [
      "INFO: ✔︎  Mamata Banerjee 완료 (885 rows)\n",
      "INFO: ✔︎  Mamata Banerjee 완료 (885 rows)\n"
     ]
    },
    {
     "name": "stderr",
     "output_type": "stream",
     "text": [
      "Keywords:  29%|██▊       | 99/347 [00:38<01:52,  2.21it/s]"
     ]
    },
    {
     "name": "stdout",
     "output_type": "stream",
     "text": [
      "INFO: ✔︎  Pierre Poilievre 완료 (885 rows)\n",
      "INFO: ✔︎  Pierre Poilievre 완료 (885 rows)\n"
     ]
    },
    {
     "name": "stderr",
     "output_type": "stream",
     "text": [
      "Keywords:  29%|██▉       | 100/347 [00:39<01:51,  2.22it/s]"
     ]
    },
    {
     "name": "stdout",
     "output_type": "stream",
     "text": [
      "INFO: ⏭  Hassan Nasrallah skipped  – zero start/end\n",
      "INFO: ⏭  Hassan Nasrallah skipped  – zero start/end\n"
     ]
    },
    {
     "name": "stderr",
     "output_type": "stream",
     "text": [
      "Keywords:  29%|██▉       | 101/347 [00:39<01:51,  2.21it/s]"
     ]
    },
    {
     "name": "stdout",
     "output_type": "stream",
     "text": [
      "WARNING: Ismail Haniyeh: No data 2023-01-01 → 2023-09-27\n",
      "WARNING: Ismail Haniyeh: No data 2023-01-01 → 2023-09-27\n",
      "INFO: ⏭  Ismail Haniyeh skipped  – empty chunk 1\n",
      "INFO: ⏭  Ismail Haniyeh skipped  – empty chunk 1\n"
     ]
    },
    {
     "name": "stderr",
     "output_type": "stream",
     "text": [
      "Keywords:  29%|██▉       | 102/347 [00:39<01:40,  2.45it/s]"
     ]
    },
    {
     "name": "stdout",
     "output_type": "stream",
     "text": [
      "INFO: ✔︎  Miley Cyrus 완료 (885 rows)\n",
      "INFO: ✔︎  Miley Cyrus 완료 (885 rows)\n"
     ]
    },
    {
     "name": "stderr",
     "output_type": "stream",
     "text": [
      "Keywords:  30%|██▉       | 103/347 [00:40<01:43,  2.37it/s]"
     ]
    },
    {
     "name": "stdout",
     "output_type": "stream",
     "text": [
      "INFO: ✔︎  Luke Bryan 완료 (885 rows)\n",
      "INFO: ✔︎  Luke Bryan 완료 (885 rows)\n"
     ]
    },
    {
     "name": "stderr",
     "output_type": "stream",
     "text": [
      "Keywords:  30%|██▉       | 104/347 [00:40<01:42,  2.36it/s]"
     ]
    },
    {
     "name": "stdout",
     "output_type": "stream",
     "text": [
      "INFO: ✔︎  Lewis Hamilton 완료 (885 rows)\n",
      "INFO: ✔︎  Lewis Hamilton 완료 (885 rows)\n"
     ]
    },
    {
     "name": "stderr",
     "output_type": "stream",
     "text": [
      "Keywords:  30%|███       | 105/347 [00:41<01:43,  2.33it/s]"
     ]
    },
    {
     "name": "stdout",
     "output_type": "stream",
     "text": [
      "INFO: ✔︎  Kelly Clarkson 완료 (885 rows)\n",
      "INFO: ✔︎  Kelly Clarkson 완료 (885 rows)\n"
     ]
    },
    {
     "name": "stderr",
     "output_type": "stream",
     "text": [
      "Keywords:  31%|███       | 106/347 [00:41<01:46,  2.26it/s]"
     ]
    },
    {
     "name": "stdout",
     "output_type": "stream",
     "text": [
      "INFO: ✔︎  Alec Baldwin 완료 (885 rows)\n",
      "INFO: ✔︎  Alec Baldwin 완료 (885 rows)\n"
     ]
    },
    {
     "name": "stderr",
     "output_type": "stream",
     "text": [
      "Keywords:  31%|███       | 107/347 [00:42<01:45,  2.27it/s]"
     ]
    },
    {
     "name": "stdout",
     "output_type": "stream",
     "text": [
      "INFO: ✔︎  Justin Bieber 완료 (885 rows)\n",
      "INFO: ✔︎  Justin Bieber 완료 (885 rows)\n"
     ]
    },
    {
     "name": "stderr",
     "output_type": "stream",
     "text": [
      "Keywords:  31%|███       | 108/347 [00:42<01:45,  2.27it/s]"
     ]
    },
    {
     "name": "stdout",
     "output_type": "stream",
     "text": [
      "INFO: ⏭  Alla Pugacheva skipped  – zero start/end\n",
      "INFO: ⏭  Alla Pugacheva skipped  – zero start/end\n"
     ]
    },
    {
     "name": "stderr",
     "output_type": "stream",
     "text": [
      "Keywords:  31%|███▏      | 109/347 [00:43<01:44,  2.28it/s]"
     ]
    },
    {
     "name": "stdout",
     "output_type": "stream",
     "text": [
      "WARNING: Tatiana Tarasova: No data 2023-01-01 → 2023-09-27\n",
      "WARNING: Tatiana Tarasova: No data 2023-01-01 → 2023-09-27\n",
      "WARNING: Tatiana Tarasova: No data 2025-03-18 → 2025-05-31\n",
      "WARNING: Tatiana Tarasova: No data 2025-03-18 → 2025-05-31\n",
      "INFO: ⏭  Tatiana Tarasova skipped  – empty chunk 1\n",
      "INFO: ⏭  Tatiana Tarasova skipped  – empty chunk 1\n"
     ]
    },
    {
     "name": "stderr",
     "output_type": "stream",
     "text": [
      "Keywords:  32%|███▏      | 110/347 [00:43<01:33,  2.53it/s]"
     ]
    },
    {
     "name": "stdout",
     "output_type": "stream",
     "text": [
      "INFO: ⏭  Dmitry Azarov skipped  – zero start/end\n",
      "INFO: ⏭  Dmitry Azarov skipped  – zero start/end\n"
     ]
    },
    {
     "name": "stderr",
     "output_type": "stream",
     "text": [
      "Keywords:  32%|███▏      | 111/347 [00:43<01:35,  2.48it/s]"
     ]
    },
    {
     "name": "stdout",
     "output_type": "stream",
     "text": [
      "INFO: ✔︎  Snoop Dogg 완료 (885 rows)\n",
      "INFO: ✔︎  Snoop Dogg 완료 (885 rows)\n"
     ]
    },
    {
     "name": "stderr",
     "output_type": "stream",
     "text": [
      "Keywords:  32%|███▏      | 112/347 [00:44<01:38,  2.39it/s]"
     ]
    },
    {
     "name": "stdout",
     "output_type": "stream",
     "text": [
      "INFO: ✔︎  Ryan Reynolds 완료 (885 rows)\n",
      "INFO: ✔︎  Ryan Reynolds 완료 (885 rows)\n"
     ]
    },
    {
     "name": "stderr",
     "output_type": "stream",
     "text": [
      "Keywords:  33%|███▎      | 113/347 [00:44<01:38,  2.37it/s]"
     ]
    },
    {
     "name": "stdout",
     "output_type": "stream",
     "text": [
      "INFO: ✔︎  Marjorie Taylor Greene 완료 (885 rows)\n",
      "INFO: ✔︎  Marjorie Taylor Greene 완료 (885 rows)\n"
     ]
    },
    {
     "name": "stderr",
     "output_type": "stream",
     "text": [
      "Keywords:  33%|███▎      | 114/347 [00:45<01:39,  2.34it/s]"
     ]
    },
    {
     "name": "stdout",
     "output_type": "stream",
     "text": [
      "INFO: ⏭  Matthew Perry skipped  – zero start/end\n",
      "INFO: ⏭  Matthew Perry skipped  – zero start/end\n"
     ]
    },
    {
     "name": "stderr",
     "output_type": "stream",
     "text": [
      "Keywords:  33%|███▎      | 115/347 [00:45<01:38,  2.35it/s]"
     ]
    },
    {
     "name": "stdout",
     "output_type": "stream",
     "text": [
      "INFO: ✔︎  Angelina Jolie 완료 (885 rows)\n",
      "INFO: ✔︎  Angelina Jolie 완료 (885 rows)\n"
     ]
    },
    {
     "name": "stderr",
     "output_type": "stream",
     "text": [
      "Keywords:  33%|███▎      | 116/347 [00:45<01:38,  2.34it/s]"
     ]
    },
    {
     "name": "stdout",
     "output_type": "stream",
     "text": [
      "INFO: ✔︎  Bobby Bones 완료 (885 rows)\n",
      "INFO: ✔︎  Bobby Bones 완료 (885 rows)\n"
     ]
    },
    {
     "name": "stderr",
     "output_type": "stream",
     "text": [
      "Keywords:  34%|███▎      | 117/347 [00:46<01:38,  2.34it/s]"
     ]
    },
    {
     "name": "stdout",
     "output_type": "stream",
     "text": [
      "INFO: ⏭  Sergei Lavrov skipped  – zero start/end\n",
      "INFO: ⏭  Sergei Lavrov skipped  – zero start/end\n"
     ]
    },
    {
     "name": "stderr",
     "output_type": "stream",
     "text": [
      "Keywords:  34%|███▍      | 118/347 [00:46<01:37,  2.34it/s]"
     ]
    },
    {
     "name": "stdout",
     "output_type": "stream",
     "text": [
      "INFO: ⏭  Anastasia Volochkova skipped  – zero start/end\n",
      "INFO: ⏭  Anastasia Volochkova skipped  – zero start/end\n"
     ]
    },
    {
     "name": "stderr",
     "output_type": "stream",
     "text": [
      "Keywords:  34%|███▍      | 119/347 [00:47<01:40,  2.28it/s]"
     ]
    },
    {
     "name": "stdout",
     "output_type": "stream",
     "text": [
      "INFO: ⏭  Mahmoud Abbas skipped  – zero start/end\n",
      "INFO: ⏭  Mahmoud Abbas skipped  – zero start/end\n"
     ]
    },
    {
     "name": "stderr",
     "output_type": "stream",
     "text": [
      "Keywords:  35%|███▍      | 120/347 [00:47<01:40,  2.26it/s]"
     ]
    },
    {
     "name": "stdout",
     "output_type": "stream",
     "text": [
      "INFO: ✔︎  Margot Robbie 완료 (885 rows)\n",
      "INFO: ✔︎  Margot Robbie 완료 (885 rows)\n"
     ]
    },
    {
     "name": "stderr",
     "output_type": "stream",
     "text": [
      "Keywords:  35%|███▍      | 121/347 [00:48<01:40,  2.25it/s]"
     ]
    },
    {
     "name": "stdout",
     "output_type": "stream",
     "text": [
      "INFO: ⏭  Matt Gaetz skipped  – zero start/end\n",
      "INFO: ⏭  Matt Gaetz skipped  – zero start/end\n"
     ]
    },
    {
     "name": "stderr",
     "output_type": "stream",
     "text": [
      "Keywords:  35%|███▌      | 122/347 [00:48<01:39,  2.27it/s]"
     ]
    },
    {
     "name": "stdout",
     "output_type": "stream",
     "text": [
      "INFO: ✔︎  Dua Lipa 완료 (885 rows)\n",
      "INFO: ✔︎  Dua Lipa 완료 (885 rows)\n"
     ]
    },
    {
     "name": "stderr",
     "output_type": "stream",
     "text": [
      "Keywords:  35%|███▌      | 123/347 [00:49<01:38,  2.29it/s]"
     ]
    },
    {
     "name": "stdout",
     "output_type": "stream",
     "text": [
      "INFO: ✔︎  Karim Benzema 완료 (885 rows)\n",
      "INFO: ✔︎  Karim Benzema 완료 (885 rows)\n"
     ]
    },
    {
     "name": "stderr",
     "output_type": "stream",
     "text": [
      "Keywords:  36%|███▌      | 124/347 [00:49<01:38,  2.26it/s]"
     ]
    },
    {
     "name": "stdout",
     "output_type": "stream",
     "text": [
      "INFO: ✔︎  Lionel Messi 완료 (885 rows)\n",
      "INFO: ✔︎  Lionel Messi 완료 (885 rows)\n"
     ]
    },
    {
     "name": "stderr",
     "output_type": "stream",
     "text": [
      "Keywords:  36%|███▌      | 125/347 [00:49<01:37,  2.28it/s]"
     ]
    },
    {
     "name": "stdout",
     "output_type": "stream",
     "text": [
      "INFO: ✔︎  Harry Styles 완료 (885 rows)\n",
      "INFO: ✔︎  Harry Styles 완료 (885 rows)\n"
     ]
    },
    {
     "name": "stderr",
     "output_type": "stream",
     "text": [
      "Keywords:  36%|███▋      | 126/347 [00:50<01:36,  2.28it/s]"
     ]
    },
    {
     "name": "stdout",
     "output_type": "stream",
     "text": [
      "INFO: ✔︎  Hakeem Jeffries 완료 (885 rows)\n",
      "INFO: ✔︎  Hakeem Jeffries 완료 (885 rows)\n"
     ]
    },
    {
     "name": "stderr",
     "output_type": "stream",
     "text": [
      "Keywords:  37%|███▋      | 127/347 [00:50<01:36,  2.29it/s]"
     ]
    },
    {
     "name": "stdout",
     "output_type": "stream",
     "text": [
      "INFO: ✔︎  Shah Rukh Khan 완료 (885 rows)\n",
      "INFO: ✔︎  Shah Rukh Khan 완료 (885 rows)\n"
     ]
    },
    {
     "name": "stderr",
     "output_type": "stream",
     "text": [
      "Keywords:  37%|███▋      | 128/347 [00:51<01:35,  2.28it/s]"
     ]
    },
    {
     "name": "stdout",
     "output_type": "stream",
     "text": [
      "WARNING: Alexander Bastrykin: No data 2023-01-01 → 2023-09-27\n",
      "WARNING: Alexander Bastrykin: No data 2023-01-01 → 2023-09-27\n",
      "WARNING: Alexander Bastrykin: No data 2025-03-18 → 2025-05-31\n",
      "WARNING: Alexander Bastrykin: No data 2025-03-18 → 2025-05-31\n",
      "INFO: ⏭  Alexander Bastrykin skipped  – empty chunk 1\n",
      "INFO: ⏭  Alexander Bastrykin skipped  – empty chunk 1\n"
     ]
    },
    {
     "name": "stderr",
     "output_type": "stream",
     "text": [
      "Keywords:  37%|███▋      | 129/347 [00:51<01:25,  2.55it/s]"
     ]
    },
    {
     "name": "stdout",
     "output_type": "stream",
     "text": [
      "INFO: ⏭  Alexei Navalny skipped  – zero start/end\n",
      "INFO: ⏭  Alexei Navalny skipped  – zero start/end\n"
     ]
    },
    {
     "name": "stderr",
     "output_type": "stream",
     "text": [
      "Keywords:  37%|███▋      | 130/347 [00:51<01:26,  2.51it/s]"
     ]
    },
    {
     "name": "stdout",
     "output_type": "stream",
     "text": [
      "INFO: ⏭  Shehbaz Sharif skipped  – zero start/end\n",
      "INFO: ⏭  Shehbaz Sharif skipped  – zero start/end\n"
     ]
    },
    {
     "name": "stderr",
     "output_type": "stream",
     "text": [
      "Keywords:  38%|███▊      | 131/347 [00:52<01:32,  2.34it/s]"
     ]
    },
    {
     "name": "stdout",
     "output_type": "stream",
     "text": [
      "INFO: ⏭  James Cleverly skipped  – zero start/end\n",
      "INFO: ⏭  James Cleverly skipped  – zero start/end\n"
     ]
    },
    {
     "name": "stderr",
     "output_type": "stream",
     "text": [
      "Keywords:  38%|███▊      | 132/347 [00:52<01:38,  2.18it/s]"
     ]
    },
    {
     "name": "stdout",
     "output_type": "stream",
     "text": [
      "INFO: ✔︎  Graham Potter 완료 (885 rows)\n",
      "INFO: ✔︎  Graham Potter 완료 (885 rows)\n"
     ]
    },
    {
     "name": "stderr",
     "output_type": "stream",
     "text": [
      "Keywords:  38%|███▊      | 133/347 [00:53<01:36,  2.21it/s]"
     ]
    },
    {
     "name": "stdout",
     "output_type": "stream",
     "text": [
      "INFO: ⏭  Valery Meladze skipped  – zero start/end\n",
      "INFO: ⏭  Valery Meladze skipped  – zero start/end\n"
     ]
    },
    {
     "name": "stderr",
     "output_type": "stream",
     "text": [
      "Keywords:  39%|███▊      | 134/347 [00:53<01:34,  2.27it/s]"
     ]
    },
    {
     "name": "stdout",
     "output_type": "stream",
     "text": [
      "INFO: ✔︎  Miranda Lambert 완료 (885 rows)\n",
      "INFO: ✔︎  Miranda Lambert 완료 (885 rows)\n"
     ]
    },
    {
     "name": "stderr",
     "output_type": "stream",
     "text": [
      "Keywords:  39%|███▉      | 135/347 [00:54<01:32,  2.29it/s]"
     ]
    },
    {
     "name": "stdout",
     "output_type": "stream",
     "text": [
      "INFO: ✔︎  Isabel Diaz 완료 (885 rows)\n",
      "INFO: ✔︎  Isabel Diaz 완료 (885 rows)\n"
     ]
    },
    {
     "name": "stderr",
     "output_type": "stream",
     "text": [
      "Keywords:  39%|███▉      | 136/347 [00:54<01:32,  2.29it/s]"
     ]
    },
    {
     "name": "stdout",
     "output_type": "stream",
     "text": [
      "INFO: ✔︎  Ed Sheeran 완료 (885 rows)\n",
      "INFO: ✔︎  Ed Sheeran 완료 (885 rows)\n"
     ]
    },
    {
     "name": "stderr",
     "output_type": "stream",
     "text": [
      "Keywords:  39%|███▉      | 137/347 [00:55<01:30,  2.31it/s]"
     ]
    },
    {
     "name": "stdout",
     "output_type": "stream",
     "text": [
      "INFO: ⏭  Ali Khamenei skipped  – zero start/end\n",
      "INFO: ⏭  Ali Khamenei skipped  – zero start/end\n"
     ]
    },
    {
     "name": "stderr",
     "output_type": "stream",
     "text": [
      "Keywords:  40%|███▉      | 138/347 [00:55<01:31,  2.29it/s]"
     ]
    },
    {
     "name": "stdout",
     "output_type": "stream",
     "text": [
      "INFO: ✔︎  Brad Pitt 완료 (885 rows)\n",
      "INFO: ✔︎  Brad Pitt 완료 (885 rows)\n"
     ]
    },
    {
     "name": "stderr",
     "output_type": "stream",
     "text": [
      "Keywords:  40%|████      | 139/347 [00:55<01:30,  2.31it/s]"
     ]
    },
    {
     "name": "stdout",
     "output_type": "stream",
     "text": [
      "INFO: ⏭  Yevgeny Prigozhin skipped  – zero start/end\n",
      "INFO: ⏭  Yevgeny Prigozhin skipped  – zero start/end\n"
     ]
    },
    {
     "name": "stderr",
     "output_type": "stream",
     "text": [
      "Keywords:  40%|████      | 140/347 [00:56<01:29,  2.31it/s]"
     ]
    },
    {
     "name": "stdout",
     "output_type": "stream",
     "text": [
      "INFO: ✔︎  Nawaz Sharif 완료 (885 rows)\n",
      "INFO: ✔︎  Nawaz Sharif 완료 (885 rows)\n"
     ]
    },
    {
     "name": "stderr",
     "output_type": "stream",
     "text": [
      "Keywords:  41%|████      | 141/347 [00:56<01:30,  2.29it/s]"
     ]
    },
    {
     "name": "stdout",
     "output_type": "stream",
     "text": [
      "INFO: ✔︎  Keith Urban 완료 (885 rows)\n",
      "INFO: ✔︎  Keith Urban 완료 (885 rows)\n"
     ]
    },
    {
     "name": "stderr",
     "output_type": "stream",
     "text": [
      "Keywords:  41%|████      | 142/347 [00:57<01:29,  2.30it/s]"
     ]
    },
    {
     "name": "stdout",
     "output_type": "stream",
     "text": [
      "INFO: ⏭  Letitia James skipped  – zero start/end\n",
      "INFO: ⏭  Letitia James skipped  – zero start/end\n"
     ]
    },
    {
     "name": "stderr",
     "output_type": "stream",
     "text": [
      "Keywords:  41%|████      | 143/347 [00:57<01:27,  2.32it/s]"
     ]
    },
    {
     "name": "stdout",
     "output_type": "stream",
     "text": [
      "INFO: ✔︎  Nicole Kidman 완료 (885 rows)\n",
      "INFO: ✔︎  Nicole Kidman 완료 (885 rows)\n"
     ]
    },
    {
     "name": "stderr",
     "output_type": "stream",
     "text": [
      "Keywords:  41%|████▏     | 144/347 [00:58<01:27,  2.31it/s]"
     ]
    },
    {
     "name": "stdout",
     "output_type": "stream",
     "text": [
      "INFO: ⏭  Josh Shapiro skipped  – zero start/end\n",
      "INFO: ⏭  Josh Shapiro skipped  – zero start/end\n"
     ]
    },
    {
     "name": "stderr",
     "output_type": "stream",
     "text": [
      "Keywords:  42%|████▏     | 145/347 [00:58<01:26,  2.32it/s]"
     ]
    },
    {
     "name": "stdout",
     "output_type": "stream",
     "text": [
      "INFO: ✔︎  Blake Shelton 완료 (885 rows)\n",
      "INFO: ✔︎  Blake Shelton 완료 (885 rows)\n"
     ]
    },
    {
     "name": "stderr",
     "output_type": "stream",
     "text": [
      "Keywords:  42%|████▏     | 146/347 [00:59<01:28,  2.27it/s]"
     ]
    },
    {
     "name": "stdout",
     "output_type": "stream",
     "text": [
      "INFO: ✔︎  Eknath Shinde 완료 (885 rows)\n",
      "INFO: ✔︎  Eknath Shinde 완료 (885 rows)\n"
     ]
    },
    {
     "name": "stderr",
     "output_type": "stream",
     "text": [
      "Keywords:  42%|████▏     | 147/347 [00:59<01:27,  2.30it/s]"
     ]
    },
    {
     "name": "stdout",
     "output_type": "stream",
     "text": [
      "INFO: ✔︎  Aaron Rodgers 완료 (885 rows)\n",
      "INFO: ✔︎  Aaron Rodgers 완료 (885 rows)\n"
     ]
    },
    {
     "name": "stderr",
     "output_type": "stream",
     "text": [
      "Keywords:  43%|████▎     | 148/347 [00:59<01:26,  2.29it/s]"
     ]
    },
    {
     "name": "stdout",
     "output_type": "stream",
     "text": [
      "INFO: ✔︎  Jeff Bezos 완료 (885 rows)\n",
      "INFO: ✔︎  Jeff Bezos 완료 (885 rows)\n"
     ]
    },
    {
     "name": "stderr",
     "output_type": "stream",
     "text": [
      "Keywords:  43%|████▎     | 149/347 [01:00<01:27,  2.26it/s]"
     ]
    },
    {
     "name": "stdout",
     "output_type": "stream",
     "text": [
      "INFO: ⏭  Karoline Leavitt skipped  – zero start/end\n",
      "INFO: ⏭  Karoline Leavitt skipped  – zero start/end\n"
     ]
    },
    {
     "name": "stderr",
     "output_type": "stream",
     "text": [
      "Keywords:  43%|████▎     | 150/347 [01:00<01:25,  2.31it/s]"
     ]
    },
    {
     "name": "stdout",
     "output_type": "stream",
     "text": [
      "INFO: ✔︎  Sabrina Carpenter 완료 (885 rows)\n",
      "INFO: ✔︎  Sabrina Carpenter 완료 (885 rows)\n"
     ]
    },
    {
     "name": "stderr",
     "output_type": "stream",
     "text": [
      "Keywords:  44%|████▎     | 151/347 [01:01<01:25,  2.29it/s]"
     ]
    },
    {
     "name": "stdout",
     "output_type": "stream",
     "text": [
      "INFO: ✔︎  Giorgia Meloni 완료 (885 rows)\n",
      "INFO: ✔︎  Giorgia Meloni 완료 (885 rows)\n"
     ]
    },
    {
     "name": "stderr",
     "output_type": "stream",
     "text": [
      "Keywords:  44%|████▍     | 152/347 [01:01<01:25,  2.27it/s]"
     ]
    },
    {
     "name": "stdout",
     "output_type": "stream",
     "text": [
      "INFO: ✔︎  Will Smith 완료 (885 rows)\n",
      "INFO: ✔︎  Will Smith 완료 (885 rows)\n"
     ]
    },
    {
     "name": "stderr",
     "output_type": "stream",
     "text": [
      "Keywords:  44%|████▍     | 153/347 [01:02<01:25,  2.28it/s]"
     ]
    },
    {
     "name": "stdout",
     "output_type": "stream",
     "text": [
      "INFO: ✔︎  Tim Scott 완료 (885 rows)\n",
      "INFO: ✔︎  Tim Scott 완료 (885 rows)\n"
     ]
    },
    {
     "name": "stderr",
     "output_type": "stream",
     "text": [
      "Keywords:  44%|████▍     | 154/347 [01:02<01:25,  2.26it/s]"
     ]
    },
    {
     "name": "stdout",
     "output_type": "stream",
     "text": [
      "INFO: ✔︎  Oprah Winfrey 완료 (885 rows)\n",
      "INFO: ✔︎  Oprah Winfrey 완료 (885 rows)\n"
     ]
    },
    {
     "name": "stderr",
     "output_type": "stream",
     "text": [
      "Keywords:  45%|████▍     | 155/347 [01:02<01:23,  2.29it/s]"
     ]
    },
    {
     "name": "stdout",
     "output_type": "stream",
     "text": [
      "INFO: ✔︎  Nicki Minaj 완료 (885 rows)\n",
      "INFO: ✔︎  Nicki Minaj 완료 (885 rows)\n"
     ]
    },
    {
     "name": "stderr",
     "output_type": "stream",
     "text": [
      "Keywords:  45%|████▍     | 156/347 [01:03<01:22,  2.30it/s]"
     ]
    },
    {
     "name": "stdout",
     "output_type": "stream",
     "text": [
      "INFO: ✔︎  Jim Jordan 완료 (885 rows)\n",
      "INFO: ✔︎  Jim Jordan 완료 (885 rows)\n"
     ]
    },
    {
     "name": "stderr",
     "output_type": "stream",
     "text": [
      "Keywords:  45%|████▌     | 157/347 [01:03<01:22,  2.31it/s]"
     ]
    },
    {
     "name": "stdout",
     "output_type": "stream",
     "text": [
      "INFO: ✔︎  Jennifer Aniston 완료 (885 rows)\n",
      "INFO: ✔︎  Jennifer Aniston 완료 (885 rows)\n"
     ]
    },
    {
     "name": "stderr",
     "output_type": "stream",
     "text": [
      "Keywords:  46%|████▌     | 158/347 [01:04<01:22,  2.28it/s]"
     ]
    },
    {
     "name": "stdout",
     "output_type": "stream",
     "text": [
      "INFO: ✔︎  Wang Yi 완료 (885 rows)\n",
      "INFO: ✔︎  Wang Yi 완료 (885 rows)\n"
     ]
    },
    {
     "name": "stderr",
     "output_type": "stream",
     "text": [
      "Keywords:  46%|████▌     | 159/347 [01:04<01:26,  2.17it/s]"
     ]
    },
    {
     "name": "stdout",
     "output_type": "stream",
     "text": [
      "INFO: ✔︎  Shohei Ohtani 완료 (885 rows)\n",
      "INFO: ✔︎  Shohei Ohtani 완료 (885 rows)\n"
     ]
    },
    {
     "name": "stderr",
     "output_type": "stream",
     "text": [
      "Keywords:  46%|████▌     | 160/347 [01:05<01:26,  2.16it/s]"
     ]
    },
    {
     "name": "stdout",
     "output_type": "stream",
     "text": [
      "WARNING: Leonid Slutsky: No data 2025-03-18 → 2025-05-31\n",
      "WARNING: Leonid Slutsky: No data 2025-03-18 → 2025-05-31\n",
      "INFO: ⏭  Leonid Slutsky skipped  – zero start/end\n",
      "INFO: ⏭  Leonid Slutsky skipped  – zero start/end\n"
     ]
    },
    {
     "name": "stderr",
     "output_type": "stream",
     "text": [
      "Keywords:  46%|████▋     | 161/347 [01:05<01:22,  2.26it/s]"
     ]
    },
    {
     "name": "stdout",
     "output_type": "stream",
     "text": [
      "WARNING: Leonid Fedun: No data 2023-01-01 → 2023-09-27\n",
      "WARNING: Leonid Fedun: No data 2023-01-01 → 2023-09-27\n",
      "WARNING: Leonid Fedun: No data 2024-06-22 → 2025-03-18\n",
      "WARNING: Leonid Fedun: No data 2024-06-22 → 2025-03-18\n",
      "WARNING: Leonid Fedun: No data 2025-03-18 → 2025-05-31\n",
      "WARNING: Leonid Fedun: No data 2025-03-18 → 2025-05-31\n",
      "INFO: ⏭  Leonid Fedun skipped  – empty chunk 1\n",
      "INFO: ⏭  Leonid Fedun skipped  – empty chunk 1\n"
     ]
    },
    {
     "name": "stderr",
     "output_type": "stream",
     "text": [
      "Keywords:  47%|████▋     | 162/347 [01:05<01:06,  2.77it/s]"
     ]
    },
    {
     "name": "stdout",
     "output_type": "stream",
     "text": [
      "INFO: ✔︎  Jair Bolsonaro 완료 (885 rows)\n",
      "INFO: ✔︎  Jair Bolsonaro 완료 (885 rows)\n"
     ]
    },
    {
     "name": "stderr",
     "output_type": "stream",
     "text": [
      "Keywords:  47%|████▋     | 163/347 [01:06<01:10,  2.62it/s]"
     ]
    },
    {
     "name": "stdout",
     "output_type": "stream",
     "text": [
      "INFO: ⏭  Simon Harris skipped  – zero start/end\n",
      "INFO: ⏭  Simon Harris skipped  – zero start/end\n"
     ]
    },
    {
     "name": "stderr",
     "output_type": "stream",
     "text": [
      "Keywords:  47%|████▋     | 164/347 [01:06<01:11,  2.57it/s]"
     ]
    },
    {
     "name": "stdout",
     "output_type": "stream",
     "text": [
      "INFO: ✔︎  Fedor Emelianenko 완료 (885 rows)\n",
      "INFO: ✔︎  Fedor Emelianenko 완료 (885 rows)\n"
     ]
    },
    {
     "name": "stderr",
     "output_type": "stream",
     "text": [
      "Keywords:  48%|████▊     | 165/347 [01:07<01:12,  2.50it/s]"
     ]
    },
    {
     "name": "stdout",
     "output_type": "stream",
     "text": [
      "INFO: ✔︎  Max Verstappen 완료 (885 rows)\n",
      "INFO: ✔︎  Max Verstappen 완료 (885 rows)\n"
     ]
    },
    {
     "name": "stderr",
     "output_type": "stream",
     "text": [
      "Keywords:  48%|████▊     | 166/347 [01:07<01:14,  2.44it/s]"
     ]
    },
    {
     "name": "stdout",
     "output_type": "stream",
     "text": [
      "INFO: ⏭  Nicola Sturgeon skipped  – zero start/end\n",
      "INFO: ⏭  Nicola Sturgeon skipped  – zero start/end\n"
     ]
    },
    {
     "name": "stderr",
     "output_type": "stream",
     "text": [
      "Keywords:  48%|████▊     | 167/347 [01:07<01:14,  2.43it/s]"
     ]
    },
    {
     "name": "stdout",
     "output_type": "stream",
     "text": [
      "INFO: ✔︎  Bernie Sanders 완료 (885 rows)\n",
      "INFO: ✔︎  Bernie Sanders 완료 (885 rows)\n"
     ]
    },
    {
     "name": "stderr",
     "output_type": "stream",
     "text": [
      "Keywords:  48%|████▊     | 168/347 [01:08<01:14,  2.39it/s]"
     ]
    },
    {
     "name": "stdout",
     "output_type": "stream",
     "text": [
      "INFO: ⏭  Chris Minns skipped  – zero start/end\n",
      "INFO: ⏭  Chris Minns skipped  – zero start/end\n"
     ]
    },
    {
     "name": "stderr",
     "output_type": "stream",
     "text": [
      "Keywords:  49%|████▊     | 169/347 [01:08<01:15,  2.35it/s]"
     ]
    },
    {
     "name": "stdout",
     "output_type": "stream",
     "text": [
      "INFO: ✔︎  Johnny Depp 완료 (885 rows)\n",
      "INFO: ✔︎  Johnny Depp 완료 (885 rows)\n"
     ]
    },
    {
     "name": "stderr",
     "output_type": "stream",
     "text": [
      "Keywords:  49%|████▉     | 170/347 [01:09<01:17,  2.30it/s]"
     ]
    },
    {
     "name": "stdout",
     "output_type": "stream",
     "text": [
      "INFO: ✔︎  Ryan Gosling 완료 (885 rows)\n",
      "INFO: ✔︎  Ryan Gosling 완료 (885 rows)\n"
     ]
    },
    {
     "name": "stderr",
     "output_type": "stream",
     "text": [
      "Keywords:  49%|████▉     | 171/347 [01:09<01:18,  2.26it/s]"
     ]
    },
    {
     "name": "stdout",
     "output_type": "stream",
     "text": [
      "INFO: ✔︎  Blake Lively 완료 (885 rows)\n",
      "INFO: ✔︎  Blake Lively 완료 (885 rows)\n"
     ]
    },
    {
     "name": "stderr",
     "output_type": "stream",
     "text": [
      "Keywords:  50%|████▉     | 172/347 [01:10<01:18,  2.23it/s]"
     ]
    },
    {
     "name": "stdout",
     "output_type": "stream",
     "text": [
      "INFO: ✔︎  Martin Scorsese 완료 (885 rows)\n",
      "INFO: ✔︎  Martin Scorsese 완료 (885 rows)\n"
     ]
    },
    {
     "name": "stderr",
     "output_type": "stream",
     "text": [
      "Keywords:  50%|████▉     | 173/347 [01:10<01:17,  2.24it/s]"
     ]
    },
    {
     "name": "stdout",
     "output_type": "stream",
     "text": [
      "INFO: ✔︎  Rudy Giuliani 완료 (885 rows)\n",
      "INFO: ✔︎  Rudy Giuliani 완료 (885 rows)\n"
     ]
    },
    {
     "name": "stderr",
     "output_type": "stream",
     "text": [
      "Keywords:  50%|█████     | 174/347 [01:11<01:15,  2.28it/s]"
     ]
    },
    {
     "name": "stdout",
     "output_type": "stream",
     "text": [
      "INFO: ✔︎  Chris Stapleton 완료 (885 rows)\n",
      "INFO: ✔︎  Chris Stapleton 완료 (885 rows)\n"
     ]
    },
    {
     "name": "stderr",
     "output_type": "stream",
     "text": [
      "Keywords:  50%|█████     | 175/347 [01:11<01:14,  2.30it/s]"
     ]
    },
    {
     "name": "stdout",
     "output_type": "stream",
     "text": [
      "INFO: ✔︎  Cyril Ramaphosa 완료 (885 rows)\n",
      "INFO: ✔︎  Cyril Ramaphosa 완료 (885 rows)\n"
     ]
    },
    {
     "name": "stderr",
     "output_type": "stream",
     "text": [
      "Keywords:  51%|█████     | 176/347 [01:11<01:14,  2.30it/s]"
     ]
    },
    {
     "name": "stdout",
     "output_type": "stream",
     "text": [
      "INFO: ⏭  Kemi Badenoch skipped  – zero start/end\n",
      "INFO: ⏭  Kemi Badenoch skipped  – zero start/end\n"
     ]
    },
    {
     "name": "stderr",
     "output_type": "stream",
     "text": [
      "Keywords:  51%|█████     | 177/347 [01:12<01:12,  2.35it/s]"
     ]
    },
    {
     "name": "stdout",
     "output_type": "stream",
     "text": [
      "INFO: ✔︎  Anthony Davis 완료 (885 rows)\n",
      "INFO: ✔︎  Anthony Davis 완료 (885 rows)\n"
     ]
    },
    {
     "name": "stderr",
     "output_type": "stream",
     "text": [
      "Keywords:  51%|█████▏    | 178/347 [01:12<01:12,  2.32it/s]"
     ]
    },
    {
     "name": "stdout",
     "output_type": "stream",
     "text": [
      "INFO: ⏭  Karine Jean-Pierre skipped  – zero start/end\n",
      "INFO: ⏭  Karine Jean-Pierre skipped  – zero start/end\n"
     ]
    },
    {
     "name": "stderr",
     "output_type": "stream",
     "text": [
      "Keywords:  52%|█████▏    | 179/347 [01:13<01:12,  2.33it/s]"
     ]
    },
    {
     "name": "stdout",
     "output_type": "stream",
     "text": [
      "INFO: ⏭  Leo Varadkar skipped  – zero start/end\n",
      "INFO: ⏭  Leo Varadkar skipped  – zero start/end\n"
     ]
    },
    {
     "name": "stderr",
     "output_type": "stream",
     "text": [
      "Keywords:  52%|█████▏    | 180/347 [01:13<01:11,  2.35it/s]"
     ]
    },
    {
     "name": "stdout",
     "output_type": "stream",
     "text": [
      "WARNING: Daniel Hagari: No data 2023-01-01 → 2023-09-27\n",
      "WARNING: Daniel Hagari: No data 2023-01-01 → 2023-09-27\n",
      "INFO: ⏭  Daniel Hagari skipped  – empty chunk 1\n",
      "INFO: ⏭  Daniel Hagari skipped  – empty chunk 1\n"
     ]
    },
    {
     "name": "stderr",
     "output_type": "stream",
     "text": [
      "Keywords:  52%|█████▏    | 181/347 [01:13<01:08,  2.43it/s]"
     ]
    },
    {
     "name": "stdout",
     "output_type": "stream",
     "text": [
      "INFO: ✔︎  Stephen King 완료 (885 rows)\n",
      "INFO: ✔︎  Stephen King 완료 (885 rows)\n"
     ]
    },
    {
     "name": "stderr",
     "output_type": "stream",
     "text": [
      "Keywords:  52%|█████▏    | 182/347 [01:42<01:32,  1.77it/s]\n"
     ]
    },
    {
     "name": "stdout",
     "output_type": "stream",
     "text": [
      "WARNING: Interrupted by user. Exit.\n",
      "WARNING: Interrupted by user. Exit.\n"
     ]
    }
   ],
   "source": [
    "#!/usr/bin/env python3\n",
    "# -*- coding: utf-8 -*-\n",
    "\"\"\"\n",
    "google_trend_crawl_270.py   (2025-06-12, full standalone)\n",
    "\n",
    "기능\n",
    "────\n",
    "1. final.csv 의 name 열을 읽어 2023-01-01 ~ 2025-05-31(UTC) 구간을\n",
    "   270 일+1 일 중복 청크로 나눠 일간 트렌드(TIMESERIES) 수집\n",
    "2. 겹치는 1 일 값을 이용해 체인-링킹(CHAIN-LINK) 방식으로 스케일 조정\n",
    "   - 시작·끝 값이 0 이면 스케일 불가 → unlinkable_keywords.csv 기록\n",
    "   - **마지막 청크의 종료일 0 값은 허용**\n",
    "3. 결과 CSV\n",
    "   • data/raw_trends.csv        name,date,value,season\n",
    "   • data/scaled_trends.csv     name,date,value,season,scaled_value\n",
    "   • data/unlinkable_keywords.csv name,reason\n",
    "\n",
    "실행\n",
    "────\n",
    "pip install python-dotenv pandas python-dateutil serpapi tqdm\n",
    "python google_trend_crawl_270.py\n",
    "\"\"\"\n",
    "from __future__ import annotations\n",
    "\n",
    "import json\n",
    "import logging\n",
    "import os\n",
    "import sys\n",
    "from datetime import datetime, timedelta, timezone\n",
    "from pathlib import Path\n",
    "from typing import List, Tuple\n",
    "\n",
    "import pandas as pd\n",
    "from dotenv import load_dotenv\n",
    "from serpapi import GoogleSearch       # pip install google-search-results\n",
    "from tqdm import tqdm\n",
    "\n",
    "# ────────────────────────────── 설정\n",
    "START_DATE   = datetime(2023, 1, 1, tzinfo=timezone.utc)\n",
    "END_DATE     = datetime(2025, 5, 31, tzinfo=timezone.utc)\n",
    "CHUNK_DAYS   = 270           # 270-day window (inclusive)\n",
    "OVERLAP_DAYS = 1             # overlap size\n",
    "\n",
    "RAW_CSV    = Path(\"data/raw_trends.csv\")\n",
    "SCALED_CSV = Path(\"data/scaled_trends.csv\")\n",
    "BAD_CSV    = Path(\"data/unlinkable_keywords.csv\")\n",
    "\n",
    "LOG_FILE   = Path(\"logs/trend_crawler.log\")\n",
    "CACHE_DIR  = Path(\"cache/trends_json\")\n",
    "CACHE_DIR.mkdir(parents=True, exist_ok=True)\n",
    "\n",
    "# ────────────────────────────── 로깅\n",
    "LOG_FILE.parent.mkdir(parents=True, exist_ok=True)\n",
    "fmt = logging.Formatter(\"%(asctime)s %(levelname)s %(message)s\")\n",
    "\n",
    "file_handler = logging.FileHandler(LOG_FILE, mode=\"a\", encoding=\"utf-8\")\n",
    "file_handler.setLevel(logging.DEBUG)\n",
    "file_handler.setFormatter(fmt)\n",
    "\n",
    "console = logging.StreamHandler(sys.stdout)\n",
    "console.setLevel(logging.INFO)\n",
    "console.setFormatter(logging.Formatter(\"%(levelname)s: %(message)s\"))\n",
    "\n",
    "logger = logging.getLogger()\n",
    "if not logger.handlers:\n",
    "    logger.setLevel(logging.DEBUG)\n",
    "    logger.addHandler(file_handler)\n",
    "    logger.addHandler(console)\n",
    "else:\n",
    "    # 중복 실행 시 콘솔 핸들러 중복 추가 방지\n",
    "    if not any(isinstance(h, logging.StreamHandler) and h.stream is sys.stdout\n",
    "               for h in logger.handlers):\n",
    "        logger.addHandler(console)\n",
    "\n",
    "# ────────────────────────────── API 키\n",
    "load_dotenv()\n",
    "API_KEY = os.getenv(\"SERPAPI_KEY\")\n",
    "if not API_KEY:\n",
    "    logger.error(\"SERPAPI_KEY 환경변수가 없습니다. .env에 추가하세요.\")\n",
    "    sys.exit(1)\n",
    "\n",
    "# ────────────────────────────── 유틸\n",
    "def generate_chunks(start: datetime, end: datetime) -> List[Tuple[datetime, datetime]]:\n",
    "    \"\"\"270-day + 1-day overlap 구간 리스트 반환.\"\"\"\n",
    "    chunks: List[Tuple[datetime, datetime]] = []\n",
    "    cur_start = start\n",
    "    while cur_start <= end:\n",
    "        cur_end = min(cur_start + timedelta(days=CHUNK_DAYS - 1), end)\n",
    "        chunks.append((cur_start, cur_end))\n",
    "        if cur_end >= end:\n",
    "            break\n",
    "        cur_start = cur_end - timedelta(days=OVERLAP_DAYS - 1)\n",
    "    return chunks\n",
    "\n",
    "\n",
    "def parse_value(val_raw) -> int:\n",
    "    \"\"\"'16'·'1,234'·'<1' 등 문자열을 int로 변환, 오류는 0.\"\"\"\n",
    "    if val_raw in (\"<1\", \"\", None):\n",
    "        return 0\n",
    "    if isinstance(val_raw, (int, float)):\n",
    "        return int(val_raw)\n",
    "    try:\n",
    "        return int(str(val_raw).replace(\",\", \"\").strip())\n",
    "    except Exception:  # pragma: no cover\n",
    "        return 0\n",
    "\n",
    "\n",
    "def timeline_item_to_row(item: dict) -> dict | None:\n",
    "    \"\"\"timeline 항목을 dict(date,value)로 변환.\"\"\"\n",
    "    # 날짜\n",
    "    if \"date\" in item and item[\"date\"]:\n",
    "        date_dt = pd.to_datetime(item[\"date\"], utc=True, errors=\"coerce\")\n",
    "    else:\n",
    "        date_dt = pd.NaT\n",
    "    if pd.isna(date_dt) and \"timestamp\" in item:\n",
    "        date_dt = pd.to_datetime(int(item[\"timestamp\"]), unit=\"s\", utc=True, errors=\"coerce\")\n",
    "    if pd.isna(date_dt):\n",
    "        return None\n",
    "    # 값\n",
    "    if \"value\" in item:\n",
    "        val_int = parse_value(item[\"value\"])\n",
    "    else:\n",
    "        values_arr = item.get(\"values\", [])\n",
    "        if values_arr and isinstance(values_arr[0], dict):\n",
    "            val_int = parse_value(values_arr[0].get(\"value\", 0))\n",
    "        else:\n",
    "            val_int = 0\n",
    "    return {\"date\": date_dt, \"value\": val_int}\n",
    "\n",
    "\n",
    "def fetch_chunk(keyword: str, begin: datetime, finish: datetime) -> pd.DataFrame:\n",
    "    \"\"\"SerpApi로 한 청크 조회 → DataFrame(date,value)\"\"\"\n",
    "    cache_fp = CACHE_DIR / f\"{keyword}_{begin:%Y%m%d}_{finish:%Y%m%d}.json\"\n",
    "    if cache_fp.exists():\n",
    "        data = json.loads(cache_fp.read_text(encoding=\"utf-8\"))\n",
    "    else:\n",
    "        params = {\n",
    "            \"api_key\": API_KEY,\n",
    "            \"engine\": \"google_trends\",\n",
    "            \"q\": keyword,\n",
    "            \"date\": f\"{begin:%Y-%m-%d} {finish:%Y-%m-%d}\",  # UTC\n",
    "            \"data_type\": \"TIMESERIES\",\n",
    "            \"output\": \"json\",\n",
    "        }\n",
    "        try:\n",
    "            data = GoogleSearch(params).get_dict()\n",
    "        except Exception as e:\n",
    "            logger.error(\"SerpApi 요청 실패 (%s): %s\", keyword, e)\n",
    "            raise\n",
    "        cache_fp.write_text(json.dumps(data, ensure_ascii=False, indent=2), encoding=\"utf-8\")\n",
    "\n",
    "    timeline = (\n",
    "        data.get(\"interest_over_time\", {}).get(\"timeline\")\n",
    "        or data.get(\"interest_over_time\", {}).get(\"timeline_data\")\n",
    "        or []\n",
    "    )\n",
    "    rows = []\n",
    "    for item in timeline:\n",
    "        row = timeline_item_to_row(item)\n",
    "        if row:\n",
    "            rows.append(row)\n",
    "    if not rows:\n",
    "        logger.warning(\"%s: No data %s → %s\", keyword, begin.date(), finish.date())\n",
    "    return pd.DataFrame(rows)\n",
    "\n",
    "\n",
    "def has_bad_edges(frames: List[pd.DataFrame]) -> tuple[bool, str]:\n",
    "    \"\"\"\n",
    "    시작·끝(단, 마지막 청크 끝 제외)·overlap 값이 0이면 True, reason 반환.\n",
    "    \"\"\"\n",
    "    if not frames:\n",
    "        return True, \"empty frames\"\n",
    "    # 1) 청크 시작·끝 값\n",
    "    for idx, df in enumerate(frames):\n",
    "        if df.empty:\n",
    "            return True, f\"empty chunk {idx+1}\"\n",
    "        start_zero = df.iloc[0][\"value\"] == 0\n",
    "        end_zero   = df.iloc[-1][\"value\"] == 0 and idx != len(frames) - 1\n",
    "        if start_zero or end_zero:\n",
    "            return True, \"zero start/end\"\n",
    "    # 2) overlap 값\n",
    "    for i in range(1, len(frames)):\n",
    "        overlap_val_prev = frames[i-1].iloc[-1][\"value\"]\n",
    "        overlap_val_curr = frames[i  ].iloc[0 ][\"value\"]\n",
    "        if overlap_val_prev == 0 or overlap_val_curr == 0:\n",
    "            return True, \"zero overlap\"\n",
    "    return False, \"\"\n",
    "\n",
    "\n",
    "def rescale_chunks(frames: List[pd.DataFrame]) -> List[pd.DataFrame]:\n",
    "    \"\"\"Chain-link scaling (B → A)\"\"\"\n",
    "    if not frames:\n",
    "        return []\n",
    "    scaled = [frames[0].copy()]\n",
    "    scaled[0][\"scaled_value\"] = scaled[0][\"value\"]\n",
    "    for i in range(1, len(frames)):\n",
    "        prev = scaled[-1]\n",
    "        curr = frames[i].copy()\n",
    "        overlap_day = curr.iloc[0][\"date\"]\n",
    "        prev_val = prev.loc[prev[\"date\"] == overlap_day, \"scaled_value\"].values[0]\n",
    "        curr_val = curr.loc[curr[\"date\"] == overlap_day, \"value\"].values[0]\n",
    "        ratio = prev_val / curr_val if curr_val else 1.0\n",
    "        curr[\"scaled_value\"] = curr[\"value\"] * ratio\n",
    "        scaled.append(curr)\n",
    "    return scaled\n",
    "\n",
    "\n",
    "def append_csv(path: Path, df: pd.DataFrame):\n",
    "    header = not path.exists()\n",
    "    df.to_csv(path, mode=\"a\", header=header, index=False)\n",
    "\n",
    "\n",
    "# ────────────────────────────── main\n",
    "def main():\n",
    "    key_csv = Path(\"final.csv\")\n",
    "    if not key_csv.exists():\n",
    "        logger.error(\"final.csv 가 없습니다.\")\n",
    "        return\n",
    "    names = pd.read_csv(key_csv, usecols=[\"name\"])[\"name\"].dropna().unique().tolist()\n",
    "    logger.info(\"Loaded %d keywords\", len(names))\n",
    "\n",
    "    # 스케줄 & CSV 헤더 준비\n",
    "    schedule = generate_chunks(START_DATE, END_DATE)\n",
    "    logger.info(\"Chunk schedule: %d chunks (270d, 1d overlap)\", len(schedule))\n",
    "\n",
    "    RAW_CSV.parent.mkdir(parents=True, exist_ok=True)\n",
    "    for p in (RAW_CSV, SCALED_CSV, BAD_CSV):\n",
    "        if not p.exists():\n",
    "            p.parent.mkdir(parents=True, exist_ok=True)\n",
    "            p.write_text(\"\")  # 헤더는 append_csv에서 처리\n",
    "\n",
    "    for kw in tqdm(names, desc=\"Keywords\"):\n",
    "        raw_frames: List[pd.DataFrame] = []\n",
    "        for idx, (s, e) in enumerate(schedule):\n",
    "            logger.debug(\"%s | chunk %02d: %s → %s\", kw, idx + 1, s.date(), e.date())\n",
    "            df = fetch_chunk(kw, s, e)\n",
    "            df[\"season\"] = idx + 1\n",
    "            raw_frames.append(df)\n",
    "\n",
    "        # edge 0 검증\n",
    "        bad, reason = has_bad_edges(raw_frames)\n",
    "        if bad:\n",
    "            logger.info(\"⏭  %s skipped  – %s\", kw, reason)\n",
    "            append_csv(BAD_CSV, pd.DataFrame([{\"name\": kw, \"reason\": reason}]))\n",
    "            continue\n",
    "\n",
    "        raw_all = pd.concat(raw_frames, ignore_index=True)\n",
    "        raw_all.insert(0, \"name\", kw)\n",
    "        append_csv(RAW_CSV, raw_all)\n",
    "\n",
    "        scaled_frames = rescale_chunks(raw_frames)\n",
    "        scaled_all = pd.concat(scaled_frames, ignore_index=True)\n",
    "        scaled_all.insert(0, \"name\", kw)\n",
    "        append_csv(SCALED_CSV, scaled_all)\n",
    "\n",
    "        logger.info(\"✔︎  %s 완료 (%d rows)\", kw, len(raw_all))\n",
    "\n",
    "    logger.info(\"All done → %s / %s / %s\", RAW_CSV, SCALED_CSV, BAD_CSV)\n",
    "\n",
    "\n",
    "if __name__ == \"__main__\":\n",
    "    try:\n",
    "        main()\n",
    "    except KeyboardInterrupt:\n",
    "        logger.warning(\"Interrupted by user. Exit.\")\n"
   ]
  },
  {
   "cell_type": "code",
   "execution_count": 7,
   "id": "8afa0c92",
   "metadata": {},
   "outputs": [
    {
     "name": "stdout",
     "output_type": "stream",
     "text": [
      "INFO: 재시도 대상: 139\n"
     ]
    },
    {
     "name": "stderr",
     "output_type": "stream",
     "text": [
      "Bridge-relink:   0%|          | 0/139 [00:00<?, ?it/s]"
     ]
    },
    {
     "name": "stdout",
     "output_type": "stream",
     "text": [
      "INFO: ✔︎  Kamala Harris 완료 (885 rows)\n"
     ]
    },
    {
     "name": "stderr",
     "output_type": "stream",
     "text": [
      "Bridge-relink:   1%|          | 1/139 [00:00<01:25,  1.62it/s]"
     ]
    },
    {
     "name": "stdout",
     "output_type": "stream",
     "text": [
      "INFO: ✔︎  Jens Stoltenberg 완료 (885 rows)\n"
     ]
    },
    {
     "name": "stderr",
     "output_type": "stream",
     "text": [
      "Bridge-relink:   1%|▏         | 2/139 [00:01<01:16,  1.78it/s]"
     ]
    },
    {
     "name": "stdout",
     "output_type": "stream",
     "text": [
      "INFO: ⏭  Alexander Lukashenko skip – bridge_fail\n"
     ]
    },
    {
     "name": "stderr",
     "output_type": "stream",
     "text": [
      "Bridge-relink:   2%|▏         | 3/139 [00:01<01:18,  1.72it/s]"
     ]
    },
    {
     "name": "stdout",
     "output_type": "stream",
     "text": [
      "INFO: ✔︎  Alexander Ovechkin 완료 (885 rows)\n"
     ]
    },
    {
     "name": "stderr",
     "output_type": "stream",
     "text": [
      "Bridge-relink:   3%|▎         | 4/139 [00:02<01:17,  1.74it/s]"
     ]
    },
    {
     "name": "stdout",
     "output_type": "stream",
     "text": [
      "INFO: ✔︎  Nikki Haley 완료 (885 rows)\n"
     ]
    },
    {
     "name": "stderr",
     "output_type": "stream",
     "text": [
      "Bridge-relink:   4%|▎         | 5/139 [00:02<01:08,  1.97it/s]"
     ]
    },
    {
     "name": "stdout",
     "output_type": "stream",
     "text": [
      "INFO: ✔︎  Peter Dutton 완료 (885 rows)\n"
     ]
    },
    {
     "name": "stderr",
     "output_type": "stream",
     "text": [
      "Bridge-relink:   4%|▍         | 6/139 [00:03<01:02,  2.14it/s]"
     ]
    },
    {
     "name": "stdout",
     "output_type": "stream",
     "text": [
      "INFO: ✔︎  Lloyd Austin 완료 (885 rows)\n"
     ]
    },
    {
     "name": "stderr",
     "output_type": "stream",
     "text": [
      "Bridge-relink:   5%|▌         | 7/139 [00:03<01:02,  2.11it/s]"
     ]
    },
    {
     "name": "stdout",
     "output_type": "stream",
     "text": [
      "INFO: ⏭  Mike Johnson skip – bridge_fail\n"
     ]
    },
    {
     "name": "stderr",
     "output_type": "stream",
     "text": [
      "Bridge-relink:   6%|▌         | 8/139 [00:04<01:05,  1.99it/s]"
     ]
    },
    {
     "name": "stdout",
     "output_type": "stream",
     "text": [
      "INFO: ✔︎  Sheikh Hasina 완료 (885 rows)\n"
     ]
    },
    {
     "name": "stderr",
     "output_type": "stream",
     "text": [
      "Bridge-relink:   6%|▋         | 9/139 [00:04<01:04,  2.02it/s]"
     ]
    },
    {
     "name": "stdout",
     "output_type": "stream",
     "text": [
      "INFO: ✔︎  Dmitry Peskov 완료 (885 rows)\n"
     ]
    },
    {
     "name": "stderr",
     "output_type": "stream",
     "text": [
      "Bridge-relink:   7%|▋         | 10/139 [00:05<01:11,  1.80it/s]"
     ]
    },
    {
     "name": "stdout",
     "output_type": "stream",
     "text": [
      "INFO: ⏭  Jimmy Carter skip – bridge_fail\n"
     ]
    },
    {
     "name": "stderr",
     "output_type": "stream",
     "text": [
      "Bridge-relink:   8%|▊         | 11/139 [00:05<01:14,  1.71it/s]"
     ]
    },
    {
     "name": "stdout",
     "output_type": "stream",
     "text": [
      "INFO: ⏭  Tim Walz skip – bridge_fail\n"
     ]
    },
    {
     "name": "stderr",
     "output_type": "stream",
     "text": [
      "Bridge-relink:   9%|▊         | 12/139 [00:06<01:13,  1.72it/s]"
     ]
    },
    {
     "name": "stdout",
     "output_type": "stream",
     "text": [
      "INFO: ✔︎  Ramzan Kadyrov 완료 (885 rows)\n"
     ]
    },
    {
     "name": "stderr",
     "output_type": "stream",
     "text": [
      "Bridge-relink:   9%|▉         | 13/139 [00:07<01:09,  1.81it/s]"
     ]
    },
    {
     "name": "stdout",
     "output_type": "stream",
     "text": [
      "INFO: ✔︎  Kate Middleton 완료 (885 rows)\n"
     ]
    },
    {
     "name": "stderr",
     "output_type": "stream",
     "text": [
      "Bridge-relink:  10%|█         | 14/139 [00:07<01:06,  1.88it/s]"
     ]
    },
    {
     "name": "stdout",
     "output_type": "stream",
     "text": [
      "INFO: ✔︎  Queen Camilla 완료 (885 rows)\n"
     ]
    },
    {
     "name": "stderr",
     "output_type": "stream",
     "text": [
      "Bridge-relink:  11%|█         | 15/139 [00:07<01:03,  1.95it/s]"
     ]
    },
    {
     "name": "stdout",
     "output_type": "stream",
     "text": [
      "INFO: ✔︎  Stormy Daniels 완료 (885 rows)\n"
     ]
    },
    {
     "name": "stderr",
     "output_type": "stream",
     "text": [
      "Bridge-relink:  12%|█▏        | 16/139 [00:08<01:02,  1.96it/s]"
     ]
    },
    {
     "name": "stdout",
     "output_type": "stream",
     "text": [
      "INFO: ⏭  Nikita Mikhalkov skip – empty chunk 3\n"
     ]
    },
    {
     "name": "stderr",
     "output_type": "stream",
     "text": [
      "Bridge-relink:  12%|█▏        | 17/139 [00:08<00:53,  2.27it/s]"
     ]
    },
    {
     "name": "stdout",
     "output_type": "stream",
     "text": [
      "INFO: ✔︎  Rachel Reeves 완료 (885 rows)\n"
     ]
    },
    {
     "name": "stderr",
     "output_type": "stream",
     "text": [
      "Bridge-relink:  13%|█▎        | 18/139 [00:09<00:52,  2.31it/s]"
     ]
    },
    {
     "name": "stdout",
     "output_type": "stream",
     "text": [
      "INFO: ✔︎  Silvio Berlusconi 완료 (885 rows)\n"
     ]
    },
    {
     "name": "stderr",
     "output_type": "stream",
     "text": [
      "Bridge-relink:  14%|█▎        | 19/139 [00:09<00:54,  2.19it/s]"
     ]
    },
    {
     "name": "stdout",
     "output_type": "stream",
     "text": [
      "INFO: ✔︎  Tucker Carlson 완료 (885 rows)\n"
     ]
    },
    {
     "name": "stderr",
     "output_type": "stream",
     "text": [
      "Bridge-relink:  14%|█▍        | 20/139 [00:10<00:55,  2.14it/s]"
     ]
    },
    {
     "name": "stdout",
     "output_type": "stream",
     "text": [
      "INFO: ✔︎  Ajit Pawar 완료 (885 rows)\n"
     ]
    },
    {
     "name": "stderr",
     "output_type": "stream",
     "text": [
      "Bridge-relink:  15%|█▌        | 21/139 [00:10<00:57,  2.04it/s]"
     ]
    },
    {
     "name": "stdout",
     "output_type": "stream",
     "text": [
      "INFO: ⏭  Denis Pushilin skip – empty chunk 2\n"
     ]
    },
    {
     "name": "stderr",
     "output_type": "stream",
     "text": [
      "Bridge-relink:  16%|█▌        | 22/139 [00:10<00:44,  2.60it/s]"
     ]
    },
    {
     "name": "stdout",
     "output_type": "stream",
     "text": [
      "INFO: ✔︎  Eric Adams 완료 (885 rows)\n"
     ]
    },
    {
     "name": "stderr",
     "output_type": "stream",
     "text": [
      "Bridge-relink:  17%|█▋        | 23/139 [00:11<00:51,  2.26it/s]"
     ]
    },
    {
     "name": "stdout",
     "output_type": "stream",
     "text": [
      "INFO: ⏭  Fumio Kishida skip – bridge_fail\n"
     ]
    },
    {
     "name": "stderr",
     "output_type": "stream",
     "text": [
      "Bridge-relink:  17%|█▋        | 24/139 [00:12<00:58,  1.97it/s]"
     ]
    },
    {
     "name": "stdout",
     "output_type": "stream",
     "text": [
      "INFO: ✔︎  Jeremy Hunt 완료 (885 rows)\n"
     ]
    },
    {
     "name": "stderr",
     "output_type": "stream",
     "text": [
      "Bridge-relink:  18%|█▊        | 25/139 [00:12<00:56,  2.03it/s]"
     ]
    },
    {
     "name": "stdout",
     "output_type": "stream",
     "text": [
      "INFO: ✔︎  Yoon Suk Yeol 완료 (885 rows)\n"
     ]
    },
    {
     "name": "stderr",
     "output_type": "stream",
     "text": [
      "Bridge-relink:  19%|█▊        | 26/139 [00:13<00:59,  1.90it/s]"
     ]
    },
    {
     "name": "stdout",
     "output_type": "stream",
     "text": [
      "INFO: ✔︎  Lisa Marie 완료 (885 rows)\n"
     ]
    },
    {
     "name": "stderr",
     "output_type": "stream",
     "text": [
      "Bridge-relink:  19%|█▉        | 27/139 [00:13<00:57,  1.95it/s]"
     ]
    },
    {
     "name": "stdout",
     "output_type": "stream",
     "text": [
      "INFO: ✔︎  Vivek Ramaswamy 완료 (885 rows)\n"
     ]
    },
    {
     "name": "stderr",
     "output_type": "stream",
     "text": [
      "Bridge-relink:  20%|██        | 28/139 [00:14<00:54,  2.04it/s]"
     ]
    },
    {
     "name": "stdout",
     "output_type": "stream",
     "text": [
      "INFO: ⏭  Humza Yousaf skip – bridge_fail\n"
     ]
    },
    {
     "name": "stderr",
     "output_type": "stream",
     "text": [
      "Bridge-relink:  21%|██        | 29/139 [00:14<00:59,  1.85it/s]"
     ]
    },
    {
     "name": "stdout",
     "output_type": "stream",
     "text": [
      "INFO: ✔︎  Mark Carney 완료 (885 rows)\n"
     ]
    },
    {
     "name": "stderr",
     "output_type": "stream",
     "text": [
      "Bridge-relink:  22%|██▏       | 30/139 [00:15<00:59,  1.85it/s]"
     ]
    },
    {
     "name": "stdout",
     "output_type": "stream",
     "text": [
      "INFO: ✔︎  Jake Sullivan 완료 (885 rows)\n"
     ]
    },
    {
     "name": "stderr",
     "output_type": "stream",
     "text": [
      "Bridge-relink:  22%|██▏       | 31/139 [00:15<00:59,  1.81it/s]"
     ]
    },
    {
     "name": "stdout",
     "output_type": "stream",
     "text": [
      "INFO: ✔︎  Alvin Bragg 완료 (885 rows)\n"
     ]
    },
    {
     "name": "stderr",
     "output_type": "stream",
     "text": [
      "Bridge-relink:  23%|██▎       | 32/139 [00:16<00:57,  1.85it/s]"
     ]
    },
    {
     "name": "stdout",
     "output_type": "stream",
     "text": [
      "INFO: ⏭  Pete Hegseth skip – bridge_fail\n"
     ]
    },
    {
     "name": "stderr",
     "output_type": "stream",
     "text": [
      "Bridge-relink:  24%|██▎       | 33/139 [00:16<00:56,  1.87it/s]"
     ]
    },
    {
     "name": "stdout",
     "output_type": "stream",
     "text": [
      "INFO: ⏭  Dmitry Rogozin skip – empty chunk 4\n"
     ]
    },
    {
     "name": "stderr",
     "output_type": "stream",
     "text": [
      "Bridge-relink:  24%|██▍       | 34/139 [00:17<00:50,  2.06it/s]"
     ]
    },
    {
     "name": "stdout",
     "output_type": "stream",
     "text": [
      "INFO: ✔︎  Suella Braverman 완료 (885 rows)\n"
     ]
    },
    {
     "name": "stderr",
     "output_type": "stream",
     "text": [
      "Bridge-relink:  25%|██▌       | 35/139 [00:17<00:54,  1.92it/s]"
     ]
    },
    {
     "name": "stdout",
     "output_type": "stream",
     "text": [
      "INFO: ⏭  Hassan Nasrallah skip – bridge_fail\n"
     ]
    },
    {
     "name": "stderr",
     "output_type": "stream",
     "text": [
      "Bridge-relink:  26%|██▌       | 36/139 [00:18<00:54,  1.89it/s]"
     ]
    },
    {
     "name": "stdout",
     "output_type": "stream",
     "text": [
      "INFO: ⏭  Ismail Haniyeh skip – empty chunk 1\n"
     ]
    },
    {
     "name": "stderr",
     "output_type": "stream",
     "text": [
      "Bridge-relink:  27%|██▋       | 37/139 [00:18<00:45,  2.22it/s]"
     ]
    },
    {
     "name": "stdout",
     "output_type": "stream",
     "text": [
      "INFO: ✔︎  Alla Pugacheva 완료 (885 rows)\n"
     ]
    },
    {
     "name": "stderr",
     "output_type": "stream",
     "text": [
      "Bridge-relink:  27%|██▋       | 38/139 [00:19<00:52,  1.94it/s]"
     ]
    },
    {
     "name": "stdout",
     "output_type": "stream",
     "text": [
      "INFO: ⏭  Tatiana Tarasova skip – empty chunk 1\n"
     ]
    },
    {
     "name": "stderr",
     "output_type": "stream",
     "text": [
      "Bridge-relink:  28%|██▊       | 39/139 [00:19<00:44,  2.24it/s]"
     ]
    },
    {
     "name": "stdout",
     "output_type": "stream",
     "text": [
      "INFO: ⏭  Dmitry Azarov skip – bridge_fail\n"
     ]
    },
    {
     "name": "stderr",
     "output_type": "stream",
     "text": [
      "Bridge-relink:  29%|██▉       | 40/139 [00:20<00:44,  2.22it/s]"
     ]
    },
    {
     "name": "stdout",
     "output_type": "stream",
     "text": [
      "INFO: ⏭  Matthew Perry skip – bridge_fail\n"
     ]
    },
    {
     "name": "stderr",
     "output_type": "stream",
     "text": [
      "Bridge-relink:  29%|██▉       | 41/139 [00:20<00:44,  2.20it/s]"
     ]
    },
    {
     "name": "stdout",
     "output_type": "stream",
     "text": [
      "INFO: ✔︎  Sergei Lavrov 완료 (885 rows)\n"
     ]
    },
    {
     "name": "stderr",
     "output_type": "stream",
     "text": [
      "Bridge-relink:  30%|███       | 42/139 [00:21<00:50,  1.91it/s]"
     ]
    },
    {
     "name": "stdout",
     "output_type": "stream",
     "text": [
      "INFO: ⏭  Anastasia Volochkova skip – bridge_fail\n"
     ]
    },
    {
     "name": "stderr",
     "output_type": "stream",
     "text": [
      "Bridge-relink:  31%|███       | 43/139 [00:21<00:51,  1.86it/s]"
     ]
    },
    {
     "name": "stdout",
     "output_type": "stream",
     "text": [
      "INFO: ✔︎  Mahmoud Abbas 완료 (885 rows)\n"
     ]
    },
    {
     "name": "stderr",
     "output_type": "stream",
     "text": [
      "Bridge-relink:  32%|███▏      | 44/139 [00:22<00:54,  1.73it/s]"
     ]
    },
    {
     "name": "stdout",
     "output_type": "stream",
     "text": [
      "INFO: ✔︎  Matt Gaetz 완료 (885 rows)\n"
     ]
    },
    {
     "name": "stderr",
     "output_type": "stream",
     "text": [
      "Bridge-relink:  32%|███▏      | 45/139 [00:23<00:54,  1.72it/s]"
     ]
    },
    {
     "name": "stdout",
     "output_type": "stream",
     "text": [
      "INFO: ⏭  Alexander Bastrykin skip – empty chunk 1\n"
     ]
    },
    {
     "name": "stderr",
     "output_type": "stream",
     "text": [
      "Bridge-relink:  33%|███▎      | 46/139 [00:23<00:44,  2.10it/s]"
     ]
    },
    {
     "name": "stdout",
     "output_type": "stream",
     "text": [
      "INFO: ✔︎  Alexei Navalny 완료 (885 rows)\n"
     ]
    },
    {
     "name": "stderr",
     "output_type": "stream",
     "text": [
      "Bridge-relink:  34%|███▍      | 47/139 [00:23<00:48,  1.89it/s]"
     ]
    },
    {
     "name": "stdout",
     "output_type": "stream",
     "text": [
      "INFO: ✔︎  Shehbaz Sharif 완료 (885 rows)\n"
     ]
    },
    {
     "name": "stderr",
     "output_type": "stream",
     "text": [
      "Bridge-relink:  35%|███▍      | 48/139 [00:24<00:50,  1.81it/s]"
     ]
    },
    {
     "name": "stdout",
     "output_type": "stream",
     "text": [
      "INFO: ✔︎  James Cleverly 완료 (885 rows)\n"
     ]
    },
    {
     "name": "stderr",
     "output_type": "stream",
     "text": [
      "Bridge-relink:  35%|███▌      | 49/139 [00:25<00:52,  1.71it/s]"
     ]
    },
    {
     "name": "stdout",
     "output_type": "stream",
     "text": [
      "INFO: ⏭  Valery Meladze skip – bridge_fail\n"
     ]
    },
    {
     "name": "stderr",
     "output_type": "stream",
     "text": [
      "Bridge-relink:  36%|███▌      | 50/139 [00:25<00:50,  1.77it/s]"
     ]
    },
    {
     "name": "stdout",
     "output_type": "stream",
     "text": [
      "INFO: ✔︎  Ali Khamenei 완료 (885 rows)\n"
     ]
    },
    {
     "name": "stderr",
     "output_type": "stream",
     "text": [
      "Bridge-relink:  37%|███▋      | 51/139 [00:26<00:53,  1.65it/s]"
     ]
    },
    {
     "name": "stdout",
     "output_type": "stream",
     "text": [
      "INFO: ✔︎  Yevgeny Prigozhin 완료 (885 rows)\n"
     ]
    },
    {
     "name": "stderr",
     "output_type": "stream",
     "text": [
      "Bridge-relink:  37%|███▋      | 52/139 [00:27<00:55,  1.58it/s]"
     ]
    },
    {
     "name": "stdout",
     "output_type": "stream",
     "text": [
      "INFO: ✔︎  Letitia James 완료 (885 rows)\n"
     ]
    },
    {
     "name": "stderr",
     "output_type": "stream",
     "text": [
      "Bridge-relink:  38%|███▊      | 53/139 [00:27<00:51,  1.66it/s]"
     ]
    },
    {
     "name": "stdout",
     "output_type": "stream",
     "text": [
      "INFO: ✔︎  Josh Shapiro 완료 (885 rows)\n"
     ]
    },
    {
     "name": "stderr",
     "output_type": "stream",
     "text": [
      "Bridge-relink:  39%|███▉      | 54/139 [00:28<00:49,  1.70it/s]"
     ]
    },
    {
     "name": "stdout",
     "output_type": "stream",
     "text": [
      "INFO: ⏭  Karoline Leavitt skip – bridge_fail\n"
     ]
    },
    {
     "name": "stderr",
     "output_type": "stream",
     "text": [
      "Bridge-relink:  40%|███▉      | 55/139 [00:28<00:46,  1.81it/s]"
     ]
    },
    {
     "name": "stdout",
     "output_type": "stream",
     "text": [
      "INFO: ⏭  Leonid Slutsky skip – empty chunk 4\n"
     ]
    },
    {
     "name": "stderr",
     "output_type": "stream",
     "text": [
      "Bridge-relink:  40%|████      | 56/139 [00:29<00:40,  2.05it/s]"
     ]
    },
    {
     "name": "stdout",
     "output_type": "stream",
     "text": [
      "INFO: ⏭  Leonid Fedun skip – empty chunk 1\n"
     ]
    },
    {
     "name": "stderr",
     "output_type": "stream",
     "text": [
      "Bridge-relink:  41%|████      | 57/139 [00:29<00:31,  2.61it/s]"
     ]
    },
    {
     "name": "stdout",
     "output_type": "stream",
     "text": [
      "INFO: ✔︎  Simon Harris 완료 (885 rows)\n"
     ]
    },
    {
     "name": "stderr",
     "output_type": "stream",
     "text": [
      "Bridge-relink:  42%|████▏     | 58/139 [00:29<00:33,  2.44it/s]"
     ]
    },
    {
     "name": "stdout",
     "output_type": "stream",
     "text": [
      "INFO: ✔︎  Nicola Sturgeon 완료 (885 rows)\n"
     ]
    },
    {
     "name": "stderr",
     "output_type": "stream",
     "text": [
      "Bridge-relink:  42%|████▏     | 59/139 [00:30<00:38,  2.08it/s]"
     ]
    },
    {
     "name": "stdout",
     "output_type": "stream",
     "text": [
      "INFO: ✔︎  Chris Minns 완료 (885 rows)\n"
     ]
    },
    {
     "name": "stderr",
     "output_type": "stream",
     "text": [
      "Bridge-relink:  43%|████▎     | 60/139 [00:30<00:42,  1.88it/s]"
     ]
    },
    {
     "name": "stdout",
     "output_type": "stream",
     "text": [
      "INFO: ✔︎  Kemi Badenoch 완료 (885 rows)\n"
     ]
    },
    {
     "name": "stderr",
     "output_type": "stream",
     "text": [
      "Bridge-relink:  44%|████▍     | 61/139 [00:31<00:40,  1.91it/s]"
     ]
    },
    {
     "name": "stdout",
     "output_type": "stream",
     "text": [
      "INFO: ✔︎  Karine Jean-Pierre 완료 (885 rows)\n"
     ]
    },
    {
     "name": "stderr",
     "output_type": "stream",
     "text": [
      "Bridge-relink:  45%|████▍     | 62/139 [00:31<00:37,  2.06it/s]"
     ]
    },
    {
     "name": "stdout",
     "output_type": "stream",
     "text": [
      "INFO: ✔︎  Leo Varadkar 완료 (885 rows)\n"
     ]
    },
    {
     "name": "stderr",
     "output_type": "stream",
     "text": [
      "Bridge-relink:  45%|████▌     | 63/139 [00:32<00:39,  1.92it/s]"
     ]
    },
    {
     "name": "stdout",
     "output_type": "stream",
     "text": [
      "INFO: ⏭  Daniel Hagari skip – empty chunk 1\n"
     ]
    },
    {
     "name": "stderr",
     "output_type": "stream",
     "text": [
      "Bridge-relink:  46%|████▌     | 64/139 [00:32<00:33,  2.26it/s]"
     ]
    },
    {
     "name": "stdout",
     "output_type": "stream",
     "text": [
      "INFO: ⏭  Zhou Qi skip – bridge_fail\n"
     ]
    },
    {
     "name": "stderr",
     "output_type": "stream",
     "text": [
      "Bridge-relink:  47%|████▋     | 65/139 [00:33<00:33,  2.22it/s]"
     ]
    },
    {
     "name": "stdout",
     "output_type": "stream",
     "text": [
      "INFO: ⏭  Alexis Tsipras skip – bridge_fail\n"
     ]
    },
    {
     "name": "stderr",
     "output_type": "stream",
     "text": [
      "Bridge-relink:  47%|████▋     | 66/139 [00:33<00:33,  2.21it/s]"
     ]
    },
    {
     "name": "stdout",
     "output_type": "stream",
     "text": [
      "INFO: ✔︎  Mallikarjun Kharge 완료 (885 rows)\n"
     ]
    },
    {
     "name": "stderr",
     "output_type": "stream",
     "text": [
      "Bridge-relink:  48%|████▊     | 67/139 [00:34<00:31,  2.32it/s]"
     ]
    },
    {
     "name": "stdout",
     "output_type": "stream",
     "text": [
      "INFO: ✔︎  Tina Turner 완료 (885 rows)\n"
     ]
    },
    {
     "name": "stderr",
     "output_type": "stream",
     "text": [
      "Bridge-relink:  49%|████▉     | 68/139 [00:34<00:32,  2.19it/s]"
     ]
    },
    {
     "name": "stdout",
     "output_type": "stream",
     "text": [
      "INFO: ⏭  Oleg Melnichenko skip – empty chunk 2\n"
     ]
    },
    {
     "name": "stderr",
     "output_type": "stream",
     "text": [
      "Bridge-relink:  50%|████▉     | 69/139 [00:34<00:27,  2.58it/s]"
     ]
    },
    {
     "name": "stdout",
     "output_type": "stream",
     "text": [
      "INFO: ⏭  Olga Buzova skip – bridge_fail\n"
     ]
    },
    {
     "name": "stderr",
     "output_type": "stream",
     "text": [
      "Bridge-relink:  50%|█████     | 70/139 [00:35<00:26,  2.60it/s]"
     ]
    },
    {
     "name": "stdout",
     "output_type": "stream",
     "text": [
      "INFO: ✔︎  Rajnath Singh 완료 (885 rows)\n"
     ]
    },
    {
     "name": "stderr",
     "output_type": "stream",
     "text": [
      "Bridge-relink:  51%|█████     | 71/139 [00:35<00:29,  2.30it/s]"
     ]
    },
    {
     "name": "stdout",
     "output_type": "stream",
     "text": [
      "INFO: ✔︎  Valery Gerasimov 완료 (885 rows)\n"
     ]
    },
    {
     "name": "stderr",
     "output_type": "stream",
     "text": [
      "Bridge-relink:  52%|█████▏    | 72/139 [00:36<00:35,  1.86it/s]"
     ]
    },
    {
     "name": "stdout",
     "output_type": "stream",
     "text": [
      "INFO: ✔︎  Isaac Herzog 완료 (885 rows)\n"
     ]
    },
    {
     "name": "stderr",
     "output_type": "stream",
     "text": [
      "Bridge-relink:  53%|█████▎    | 73/139 [00:37<00:39,  1.69it/s]"
     ]
    },
    {
     "name": "stdout",
     "output_type": "stream",
     "text": [
      "INFO: ✔︎  George Santos 완료 (885 rows)\n"
     ]
    },
    {
     "name": "stderr",
     "output_type": "stream",
     "text": [
      "Bridge-relink:  53%|█████▎    | 74/139 [00:37<00:36,  1.78it/s]"
     ]
    },
    {
     "name": "stdout",
     "output_type": "stream",
     "text": [
      "INFO: ⏭  Wang Wenbin skip – bridge_fail\n"
     ]
    },
    {
     "name": "stderr",
     "output_type": "stream",
     "text": [
      "Bridge-relink:  54%|█████▍    | 75/139 [00:38<00:33,  1.92it/s]"
     ]
    },
    {
     "name": "stdout",
     "output_type": "stream",
     "text": [
      "INFO: ✔︎  Alejandro Mayorkas 완료 (885 rows)\n"
     ]
    },
    {
     "name": "stderr",
     "output_type": "stream",
     "text": [
      "Bridge-relink:  55%|█████▍    | 76/139 [00:38<00:33,  1.85it/s]"
     ]
    },
    {
     "name": "stdout",
     "output_type": "stream",
     "text": [
      "INFO: ⏭  John Swinney skip – bridge_fail\n"
     ]
    },
    {
     "name": "stderr",
     "output_type": "stream",
     "text": [
      "Bridge-relink:  55%|█████▌    | 77/139 [00:39<00:32,  1.93it/s]"
     ]
    },
    {
     "name": "stdout",
     "output_type": "stream",
     "text": [
      "INFO: ✔︎  Julian Assange 완료 (885 rows)\n"
     ]
    },
    {
     "name": "stderr",
     "output_type": "stream",
     "text": [
      "Bridge-relink:  56%|█████▌    | 78/139 [00:43<01:34,  1.56s/it]"
     ]
    },
    {
     "name": "stdout",
     "output_type": "stream",
     "text": [
      "INFO: ✔︎  Andy Beshear 완료 (885 rows)\n"
     ]
    },
    {
     "name": "stderr",
     "output_type": "stream",
     "text": [
      "Bridge-relink:  57%|█████▋    | 79/139 [00:43<01:13,  1.23s/it]"
     ]
    },
    {
     "name": "stdout",
     "output_type": "stream",
     "text": [
      "INFO: ✔︎  David Lammy 완료 (885 rows)\n"
     ]
    },
    {
     "name": "stderr",
     "output_type": "stream",
     "text": [
      "Bridge-relink:  58%|█████▊    | 80/139 [00:50<02:44,  2.79s/it]"
     ]
    },
    {
     "name": "stdout",
     "output_type": "stream",
     "text": [
      "INFO: ✔︎  Robert Fico 완료 (885 rows)\n"
     ]
    },
    {
     "name": "stderr",
     "output_type": "stream",
     "text": [
      "Bridge-relink:  58%|█████▊    | 81/139 [00:57<03:58,  4.12s/it]"
     ]
    },
    {
     "name": "stdout",
     "output_type": "stream",
     "text": [
      "INFO: ✔︎  Penny Wong 완료 (885 rows)\n"
     ]
    },
    {
     "name": "stderr",
     "output_type": "stream",
     "text": [
      "Bridge-relink:  59%|█████▉    | 82/139 [01:04<04:45,  5.02s/it]"
     ]
    },
    {
     "name": "stdout",
     "output_type": "stream",
     "text": [
      "INFO: ✔︎  Jeremy Renner 완료 (885 rows)\n"
     ]
    },
    {
     "name": "stderr",
     "output_type": "stream",
     "text": [
      "Bridge-relink:  60%|█████▉    | 83/139 [01:11<05:11,  5.56s/it]"
     ]
    },
    {
     "name": "stdout",
     "output_type": "stream",
     "text": [
      "INFO: ✔︎  Bruce Miller 완료 (885 rows)\n"
     ]
    },
    {
     "name": "stderr",
     "output_type": "stream",
     "text": [
      "Bridge-relink:  60%|██████    | 84/139 [01:19<05:48,  6.33s/it]"
     ]
    },
    {
     "name": "stdout",
     "output_type": "stream",
     "text": [
      "INFO: ⏭  Boyko Borisov skip – bridge_fail\n"
     ]
    },
    {
     "name": "stderr",
     "output_type": "stream",
     "text": [
      "Bridge-relink:  61%|██████    | 85/139 [01:24<05:18,  5.90s/it]"
     ]
    },
    {
     "name": "stdout",
     "output_type": "stream",
     "text": [
      "INFO: ✔︎  Nitish Kumar 완료 (885 rows)\n"
     ]
    },
    {
     "name": "stderr",
     "output_type": "stream",
     "text": [
      "Bridge-relink:  62%|██████▏   | 86/139 [01:28<04:51,  5.51s/it]"
     ]
    },
    {
     "name": "stdout",
     "output_type": "stream",
     "text": [
      "INFO: ⏭  Denis Manturov skip – empty chunk 2\n"
     ]
    },
    {
     "name": "stderr",
     "output_type": "stream",
     "text": [
      "Bridge-relink:  63%|██████▎   | 87/139 [01:29<03:24,  3.93s/it]"
     ]
    },
    {
     "name": "stdout",
     "output_type": "stream",
     "text": [
      "INFO: ✔︎  Yvette Cooper 완료 (885 rows)\n"
     ]
    },
    {
     "name": "stderr",
     "output_type": "stream",
     "text": [
      "Bridge-relink:  63%|██████▎   | 88/139 [01:37<04:33,  5.36s/it]"
     ]
    },
    {
     "name": "stdout",
     "output_type": "stream",
     "text": [
      "INFO: ✔︎  Ed Davey 완료 (885 rows)\n"
     ]
    },
    {
     "name": "stderr",
     "output_type": "stream",
     "text": [
      "Bridge-relink:  64%|██████▍   | 89/139 [01:39<03:36,  4.33s/it]"
     ]
    },
    {
     "name": "stdout",
     "output_type": "stream",
     "text": [
      "INFO: ✔︎  Vladmir Putin 완료 (885 rows)\n"
     ]
    },
    {
     "name": "stderr",
     "output_type": "stream",
     "text": [
      "Bridge-relink:  65%|██████▍   | 90/139 [01:50<05:00,  6.13s/it]"
     ]
    },
    {
     "name": "stdout",
     "output_type": "stream",
     "text": [
      "INFO: ✔︎  Michael Bloomberg 완료 (885 rows)\n"
     ]
    },
    {
     "name": "stderr",
     "output_type": "stream",
     "text": [
      "Bridge-relink:  65%|██████▌   | 91/139 [01:54<04:30,  5.63s/it]"
     ]
    },
    {
     "name": "stdout",
     "output_type": "stream",
     "text": [
      "INFO: ✔︎  Jensen Huang 완료 (885 rows)\n"
     ]
    },
    {
     "name": "stderr",
     "output_type": "stream",
     "text": [
      "Bridge-relink:  66%|██████▌   | 92/139 [01:54<03:11,  4.08s/it]"
     ]
    },
    {
     "name": "stdout",
     "output_type": "stream",
     "text": [
      "INFO: ⏭  Shou Zi Chew skip – bridge_fail\n"
     ]
    },
    {
     "name": "stderr",
     "output_type": "stream",
     "text": [
      "Bridge-relink:  67%|██████▋   | 93/139 [02:01<03:45,  4.90s/it]"
     ]
    },
    {
     "name": "stdout",
     "output_type": "stream",
     "text": [
      "INFO: ⏭  Steve Mollenkopf skip – empty chunk 4\n"
     ]
    },
    {
     "name": "stderr",
     "output_type": "stream",
     "text": [
      "Bridge-relink:  68%|██████▊   | 94/139 [02:02<02:38,  3.53s/it]"
     ]
    },
    {
     "name": "stdout",
     "output_type": "stream",
     "text": [
      "INFO: ✔︎  Mary Barra 완료 (885 rows)\n"
     ]
    },
    {
     "name": "stderr",
     "output_type": "stream",
     "text": [
      "Bridge-relink:  68%|██████▊   | 95/139 [02:06<02:40,  3.65s/it]"
     ]
    },
    {
     "name": "stdout",
     "output_type": "stream",
     "text": [
      "INFO: ⏭  Lei Jun skip – bridge_fail\n"
     ]
    },
    {
     "name": "stderr",
     "output_type": "stream",
     "text": [
      "Bridge-relink:  69%|██████▉   | 96/139 [02:09<02:40,  3.72s/it]"
     ]
    },
    {
     "name": "stdout",
     "output_type": "stream",
     "text": [
      "INFO: ✔︎  Marc Benioff 완료 (885 rows)\n"
     ]
    },
    {
     "name": "stderr",
     "output_type": "stream",
     "text": [
      "Bridge-relink:  70%|██████▉   | 97/139 [02:18<03:43,  5.32s/it]"
     ]
    },
    {
     "name": "stdout",
     "output_type": "stream",
     "text": [
      "INFO: ⏭  Akio Toyoda skip – bridge_fail\n"
     ]
    },
    {
     "name": "stderr",
     "output_type": "stream",
     "text": [
      "Bridge-relink:  71%|███████   | 98/139 [02:24<03:39,  5.35s/it]"
     ]
    },
    {
     "name": "stdout",
     "output_type": "stream",
     "text": [
      "INFO: ✔︎  Masayoshi Son 완료 (885 rows)\n"
     ]
    },
    {
     "name": "stderr",
     "output_type": "stream",
     "text": [
      "Bridge-relink:  71%|███████   | 99/139 [02:35<04:38,  6.97s/it]"
     ]
    },
    {
     "name": "stdout",
     "output_type": "stream",
     "text": [
      "INFO: ✔︎  Eric Schmidt 완료 (885 rows)\n"
     ]
    },
    {
     "name": "stderr",
     "output_type": "stream",
     "text": [
      "Bridge-relink:  72%|███████▏  | 100/139 [02:44<04:57,  7.64s/it]"
     ]
    },
    {
     "name": "stdout",
     "output_type": "stream",
     "text": [
      "INFO: ✔︎  Marc Andreessen 완료 (885 rows)\n"
     ]
    },
    {
     "name": "stderr",
     "output_type": "stream",
     "text": [
      "Bridge-relink:  73%|███████▎  | 101/139 [02:48<04:10,  6.58s/it]"
     ]
    },
    {
     "name": "stdout",
     "output_type": "stream",
     "text": [
      "INFO: ✔︎  Reed Hastings 완료 (885 rows)\n"
     ]
    },
    {
     "name": "stderr",
     "output_type": "stream",
     "text": [
      "Bridge-relink:  73%|███████▎  | 102/139 [02:52<03:37,  5.87s/it]"
     ]
    },
    {
     "name": "stdout",
     "output_type": "stream",
     "text": [
      "INFO: ✔︎  David Rubenstein 완료 (885 rows)\n"
     ]
    },
    {
     "name": "stderr",
     "output_type": "stream",
     "text": [
      "Bridge-relink:  74%|███████▍  | 103/139 [03:04<04:38,  7.73s/it]"
     ]
    },
    {
     "name": "stdout",
     "output_type": "stream",
     "text": [
      "INFO: ✔︎  Jane Fraser 완료 (885 rows)\n"
     ]
    },
    {
     "name": "stderr",
     "output_type": "stream",
     "text": [
      "Bridge-relink:  75%|███████▍  | 104/139 [03:05<03:13,  5.54s/it]"
     ]
    },
    {
     "name": "stdout",
     "output_type": "stream",
     "text": [
      "INFO: ✔︎  Dara Khosrowshahi 완료 (885 rows)\n"
     ]
    },
    {
     "name": "stderr",
     "output_type": "stream",
     "text": [
      "Bridge-relink:  76%|███████▌  | 105/139 [03:16<04:05,  7.21s/it]"
     ]
    },
    {
     "name": "stdout",
     "output_type": "stream",
     "text": [
      "INFO: ✔︎  Doug Mcmillon 완료 (885 rows)\n"
     ]
    },
    {
     "name": "stderr",
     "output_type": "stream",
     "text": [
      "Bridge-relink:  76%|███████▋  | 106/139 [03:32<05:26,  9.90s/it]"
     ]
    },
    {
     "name": "stdout",
     "output_type": "stream",
     "text": [
      "INFO: ✔︎  Evan Spiegel 완료 (885 rows)\n"
     ]
    },
    {
     "name": "stderr",
     "output_type": "stream",
     "text": [
      "Bridge-relink:  77%|███████▋  | 107/139 [03:39<04:51,  9.12s/it]"
     ]
    },
    {
     "name": "stdout",
     "output_type": "stream",
     "text": [
      "INFO: ✔︎  Brian Chesky  완료 (885 rows)\n"
     ]
    },
    {
     "name": "stderr",
     "output_type": "stream",
     "text": [
      "Bridge-relink:  78%|███████▊  | 108/139 [03:44<04:06,  7.95s/it]"
     ]
    },
    {
     "name": "stdout",
     "output_type": "stream",
     "text": [
      "INFO: ⏭  Ruth Porat skip – bridge_fail\n"
     ]
    },
    {
     "name": "stderr",
     "output_type": "stream",
     "text": [
      "Bridge-relink:  78%|███████▊  | 109/139 [03:48<03:23,  6.77s/it]"
     ]
    },
    {
     "name": "stdout",
     "output_type": "stream",
     "text": [
      "INFO: ⏭  Susan Wojcicki skip – bridge_fail\n"
     ]
    },
    {
     "name": "stderr",
     "output_type": "stream",
     "text": [
      "Bridge-relink:  79%|███████▉  | 110/139 [03:53<02:59,  6.18s/it]"
     ]
    },
    {
     "name": "stdout",
     "output_type": "stream",
     "text": [
      "INFO: ⏭  Cathy Engelbert skip – bridge_fail\n"
     ]
    },
    {
     "name": "stderr",
     "output_type": "stream",
     "text": [
      "Bridge-relink:  80%|███████▉  | 111/139 [03:56<02:27,  5.27s/it]"
     ]
    },
    {
     "name": "stdout",
     "output_type": "stream",
     "text": [
      "INFO: ⏭  Safra Catz skip – bridge_fail\n"
     ]
    },
    {
     "name": "stderr",
     "output_type": "stream",
     "text": [
      "Bridge-relink:  81%|████████  | 112/139 [03:59<02:01,  4.51s/it]"
     ]
    },
    {
     "name": "stdout",
     "output_type": "stream",
     "text": [
      "INFO: ✔︎  Ritesh Agarwal 완료 (885 rows)\n"
     ]
    },
    {
     "name": "stderr",
     "output_type": "stream",
     "text": [
      "Bridge-relink:  81%|████████▏ | 113/139 [04:03<01:54,  4.40s/it]"
     ]
    },
    {
     "name": "stdout",
     "output_type": "stream",
     "text": [
      "INFO: ⏭  Shantanu Narayen skip – bridge_fail\n"
     ]
    },
    {
     "name": "stderr",
     "output_type": "stream",
     "text": [
      "Bridge-relink:  82%|████████▏ | 114/139 [04:14<02:38,  6.34s/it]"
     ]
    },
    {
     "name": "stdout",
     "output_type": "stream",
     "text": [
      "INFO: ✔︎  Laurene Powell Jobs 완료 (885 rows)\n"
     ]
    },
    {
     "name": "stderr",
     "output_type": "stream",
     "text": [
      "Bridge-relink:  83%|████████▎ | 115/139 [04:31<03:51,  9.63s/it]"
     ]
    },
    {
     "name": "stdout",
     "output_type": "stream",
     "text": [
      "INFO: ⏭  Daniel Zhang skip – bridge_fail\n"
     ]
    },
    {
     "name": "stderr",
     "output_type": "stream",
     "text": [
      "Bridge-relink:  83%|████████▎ | 116/139 [04:37<03:13,  8.41s/it]"
     ]
    },
    {
     "name": "stdout",
     "output_type": "stream",
     "text": [
      "INFO: ⏭  Scott Farquhar skip – bridge_fail\n"
     ]
    },
    {
     "name": "stderr",
     "output_type": "stream",
     "text": [
      "Bridge-relink:  84%|████████▍ | 117/139 [04:47<03:17,  9.00s/it]"
     ]
    },
    {
     "name": "stdout",
     "output_type": "stream",
     "text": [
      "INFO: ⏭  Vinod Khosia skip – empty chunk 1\n"
     ]
    },
    {
     "name": "stderr",
     "output_type": "stream",
     "text": [
      "Bridge-relink:  85%|████████▍ | 118/139 [04:48<02:13,  6.37s/it]"
     ]
    },
    {
     "name": "stdout",
     "output_type": "stream",
     "text": [
      "INFO: ✔︎  Chamath Palihapitiya 완료 (885 rows)\n"
     ]
    },
    {
     "name": "stderr",
     "output_type": "stream",
     "text": [
      "Bridge-relink:  86%|████████▌ | 119/139 [04:52<01:55,  5.79s/it]"
     ]
    },
    {
     "name": "stdout",
     "output_type": "stream",
     "text": [
      "INFO: ⏭  Robin Li skip – bridge_fail\n"
     ]
    },
    {
     "name": "stderr",
     "output_type": "stream",
     "text": [
      "Bridge-relink:  86%|████████▋ | 120/139 [04:56<01:41,  5.33s/it]"
     ]
    },
    {
     "name": "stdout",
     "output_type": "stream",
     "text": [
      "INFO: ✔︎  Ben Horowitz 완료 (885 rows)\n"
     ]
    },
    {
     "name": "stderr",
     "output_type": "stream",
     "text": [
      "Bridge-relink:  87%|████████▋ | 121/139 [05:08<02:12,  7.36s/it]"
     ]
    },
    {
     "name": "stdout",
     "output_type": "stream",
     "text": [
      "INFO: ⏭  Pony Ma skip – bridge_fail\n"
     ]
    },
    {
     "name": "stderr",
     "output_type": "stream",
     "text": [
      "Bridge-relink:  88%|████████▊ | 122/139 [05:14<01:56,  6.85s/it]"
     ]
    },
    {
     "name": "stdout",
     "output_type": "stream",
     "text": [
      "INFO: ✔︎  John Elkann 완료 (885 rows)\n"
     ]
    },
    {
     "name": "stderr",
     "output_type": "stream",
     "text": [
      "Bridge-relink:  88%|████████▊ | 123/139 [05:19<01:41,  6.37s/it]"
     ]
    },
    {
     "name": "stdout",
     "output_type": "stream",
     "text": [
      "INFO: ⏭  Stephan Winkelmann skip – bridge_fail\n"
     ]
    },
    {
     "name": "stderr",
     "output_type": "stream",
     "text": [
      "Bridge-relink:  89%|████████▉ | 124/139 [05:23<01:22,  5.53s/it]"
     ]
    },
    {
     "name": "stdout",
     "output_type": "stream",
     "text": [
      "INFO: ⏭  Chris Kempczinski skip – bridge_fail\n"
     ]
    },
    {
     "name": "stderr",
     "output_type": "stream",
     "text": [
      "Bridge-relink:  90%|████████▉ | 125/139 [05:27<01:11,  5.12s/it]"
     ]
    },
    {
     "name": "stdout",
     "output_type": "stream",
     "text": [
      "INFO: ⏭  James Quincey skip – bridge_fail\n"
     ]
    },
    {
     "name": "stderr",
     "output_type": "stream",
     "text": [
      "Bridge-relink:  91%|█████████ | 126/139 [05:30<00:58,  4.52s/it]"
     ]
    },
    {
     "name": "stdout",
     "output_type": "stream",
     "text": [
      "INFO: ⏭  Ryan Mcinerney skip – bridge_fail\n"
     ]
    },
    {
     "name": "stderr",
     "output_type": "stream",
     "text": [
      "Bridge-relink:  91%|█████████▏| 127/139 [05:34<00:51,  4.33s/it]"
     ]
    },
    {
     "name": "stdout",
     "output_type": "stream",
     "text": [
      "INFO: ⏭  Koji Sato skip – bridge_fail\n"
     ]
    },
    {
     "name": "stderr",
     "output_type": "stream",
     "text": [
      "Bridge-relink:  92%|█████████▏| 128/139 [05:38<00:46,  4.21s/it]"
     ]
    },
    {
     "name": "stdout",
     "output_type": "stream",
     "text": [
      "INFO: ✔︎  Arvind Krishna 완료 (885 rows)\n"
     ]
    },
    {
     "name": "stderr",
     "output_type": "stream",
     "text": [
      "Bridge-relink:  93%|█████████▎| 129/139 [05:49<01:01,  6.19s/it]"
     ]
    },
    {
     "name": "stdout",
     "output_type": "stream",
     "text": [
      "INFO: ⏭  Chuck Robbins skip – bridge_fail\n"
     ]
    },
    {
     "name": "stderr",
     "output_type": "stream",
     "text": [
      "Bridge-relink:  94%|█████████▎| 130/139 [05:53<00:49,  5.55s/it]"
     ]
    },
    {
     "name": "stdout",
     "output_type": "stream",
     "text": [
      "INFO: ✔︎  Elliott Hill 완료 (885 rows)\n"
     ]
    },
    {
     "name": "stderr",
     "output_type": "stream",
     "text": [
      "Bridge-relink:  94%|█████████▍| 131/139 [06:04<00:56,  7.12s/it]"
     ]
    },
    {
     "name": "stdout",
     "output_type": "stream",
     "text": [
      "INFO: ✔︎  David Zaslav 완료 (885 rows)\n"
     ]
    },
    {
     "name": "stderr",
     "output_type": "stream",
     "text": [
      "Bridge-relink:  95%|█████████▍| 132/139 [06:11<00:51,  7.29s/it]"
     ]
    },
    {
     "name": "stdout",
     "output_type": "stream",
     "text": [
      "INFO: ✔︎  Adam Silver 완료 (885 rows)\n"
     ]
    },
    {
     "name": "stderr",
     "output_type": "stream",
     "text": [
      "Bridge-relink:  96%|█████████▌| 133/139 [06:12<00:31,  5.23s/it]"
     ]
    },
    {
     "name": "stdout",
     "output_type": "stream",
     "text": [
      "INFO: ⏭  Kelly Ortberg skip – empty chunk 2\n"
     ]
    },
    {
     "name": "stderr",
     "output_type": "stream",
     "text": [
      "Bridge-relink:  96%|█████████▋| 134/139 [06:12<00:18,  3.76s/it]"
     ]
    },
    {
     "name": "stdout",
     "output_type": "stream",
     "text": [
      "INFO: ✔︎  Oliver Blume 완료 (885 rows)\n"
     ]
    },
    {
     "name": "stderr",
     "output_type": "stream",
     "text": [
      "Bridge-relink:  97%|█████████▋| 135/139 [06:24<00:25,  6.33s/it]"
     ]
    },
    {
     "name": "stdout",
     "output_type": "stream",
     "text": [
      "INFO: ⏭  Euisun Chung skip – empty chunk 4\n"
     ]
    },
    {
     "name": "stderr",
     "output_type": "stream",
     "text": [
      "Bridge-relink:  98%|█████████▊| 136/139 [06:25<00:13,  4.55s/it]"
     ]
    },
    {
     "name": "stdout",
     "output_type": "stream",
     "text": [
      "INFO: ⏭  Benedetto Vigna skip – bridge_fail\n"
     ]
    },
    {
     "name": "stderr",
     "output_type": "stream",
     "text": [
      "Bridge-relink:  99%|█████████▊| 137/139 [06:28<00:08,  4.18s/it]"
     ]
    },
    {
     "name": "stdout",
     "output_type": "stream",
     "text": [
      "INFO: ✔︎  Piero Ferrari 완료 (885 rows)\n"
     ]
    },
    {
     "name": "stderr",
     "output_type": "stream",
     "text": [
      "Bridge-relink:  99%|█████████▉| 138/139 [06:36<00:05,  5.28s/it]"
     ]
    },
    {
     "name": "stdout",
     "output_type": "stream",
     "text": [
      "INFO: ⏭  Wael Sawan skip – bridge_fail\n"
     ]
    },
    {
     "name": "stderr",
     "output_type": "stream",
     "text": [
      "Bridge-relink: 100%|██████████| 139/139 [06:47<00:00,  2.93s/it]"
     ]
    },
    {
     "name": "stdout",
     "output_type": "stream",
     "text": [
      "INFO: 남은 실패 54 → unlinkable_keywords.csv 갱신\n"
     ]
    },
    {
     "name": "stderr",
     "output_type": "stream",
     "text": [
      "\n"
     ]
    }
   ],
   "source": [
    "#!/usr/bin/env python3\n",
    "# -*- coding: utf-8 -*-\n",
    "\"\"\"\n",
    "google_trend_bridge_fix.py   (2025-06-24, standalone, patched)\n",
    "\n",
    "역할\n",
    "────\n",
    "1. data/unlinkable_keywords.csv 에 있는 키워드만 재시도\n",
    "2. ±100일 브리지-링킹으로 스케일\n",
    "3. 성공 시 data/raw_trends_bridge.csv / data/scaled_trends_bridge.csv 저장\n",
    "4. 실패 시 unlinkable_keywords.csv 의 reason 갱신\n",
    "\n",
    "실행\n",
    "────\n",
    "pip install python-dotenv pandas python-dateutil serpapi tqdm\n",
    "python google_trend_bridge_fix.py\n",
    "\"\"\"\n",
    "from __future__ import annotations\n",
    "\n",
    "import json\n",
    "import logging\n",
    "import os\n",
    "import sys\n",
    "from datetime import datetime, timedelta, timezone\n",
    "from pathlib import Path\n",
    "from typing import Callable, List, Tuple\n",
    "\n",
    "import pandas as pd\n",
    "from dotenv import load_dotenv\n",
    "from serpapi import GoogleSearch\n",
    "from tqdm import tqdm\n",
    "\n",
    "# ────────── 기간·파일·디렉터리\n",
    "START_DATE   = datetime(2023, 1, 1, tzinfo=timezone.utc)\n",
    "END_DATE     = datetime(2025, 5, 31, tzinfo=timezone.utc)\n",
    "\n",
    "RAW_CSV    = Path(\"data/raw_trends_bridge.csv\")\n",
    "SCALED_CSV = Path(\"data/scaled_trends_bridge.csv\")\n",
    "BAD_CSV    = Path(\"data/unlinkable_keywords.csv\")\n",
    "\n",
    "LOG_FILE   = Path(\"logs/bridge_fix.log\")\n",
    "CACHE_DIR  = Path(\"cache/trends_json\")\n",
    "BRIDGE_CACHE_DIR = Path(\"cache/trends_bridge_json\")\n",
    "for d in (CACHE_DIR, BRIDGE_CACHE_DIR, LOG_FILE.parent):\n",
    "    d.mkdir(parents=True, exist_ok=True)\n",
    "\n",
    "# ────────── 로깅\n",
    "fmt = logging.Formatter(\"%(asctime)s %(levelname)s %(message)s\")\n",
    "fh = logging.FileHandler(LOG_FILE, mode=\"a\", encoding=\"utf-8\")\n",
    "fh.setLevel(logging.DEBUG)\n",
    "fh.setFormatter(fmt)\n",
    "ch = logging.StreamHandler(sys.stdout)\n",
    "ch.setLevel(logging.INFO)\n",
    "ch.setFormatter(logging.Formatter(\"%(levelname)s: %(message)s\"))\n",
    "logger = logging.getLogger()\n",
    "logger.setLevel(logging.DEBUG)\n",
    "logger.handlers.clear()\n",
    "logger.addHandler(fh)\n",
    "logger.addHandler(ch)\n",
    "\n",
    "# ────────── SerpApi 키\n",
    "load_dotenv()\n",
    "API_KEY = os.getenv(\"SERPAPI_KEY\")\n",
    "if not API_KEY:\n",
    "    logger.error(\"SERPAPI_KEY 환경변수가 없습니다. .env에 추가하세요.\")\n",
    "    sys.exit(1)\n",
    "\n",
    "# ────────── 스케일 파라미터\n",
    "CHUNK_DAYS         = 270\n",
    "OVERLAP_DAYS       = 1\n",
    "BRIDGE_HALF_WINDOW = 100\n",
    "\n",
    "\n",
    "def generate_chunks(start: datetime, end: datetime) -> List[Tuple[datetime, datetime]]:\n",
    "    chunks: List[Tuple[datetime, datetime]] = []\n",
    "    cur = start\n",
    "    while cur <= end:\n",
    "        finish = min(cur + timedelta(days=CHUNK_DAYS - 1), end)\n",
    "        chunks.append((cur, finish))\n",
    "        if finish >= end:\n",
    "            break\n",
    "        cur = finish - timedelta(days=OVERLAP_DAYS - 1)\n",
    "    return chunks\n",
    "\n",
    "\n",
    "def has_bad_edges(frames: List[pd.DataFrame]) -> Tuple[bool, str]:\n",
    "    if not frames:\n",
    "        return True, \"empty frames\"\n",
    "    for idx, df in enumerate(frames):\n",
    "        if df.empty:\n",
    "            return True, f\"empty chunk {idx+1}\"\n",
    "    return False, \"\"\n",
    "\n",
    "\n",
    "def _compute_ratio(df_left: pd.DataFrame, df_right: pd.DataFrame,\n",
    "                   col_left: str, col_right: str) -> float | None:\n",
    "    if col_left not in df_left.columns or col_right not in df_right.columns:\n",
    "        return None\n",
    "    merged = (\n",
    "        df_left[[\"date\", col_left]]\n",
    "        .merge(df_right[[\"date\", col_right]], on=\"date\", how=\"inner\")\n",
    "    )\n",
    "    nz = merged[(merged[col_left] != 0) & (merged[col_right] != 0)]\n",
    "    if nz.empty:\n",
    "        return None\n",
    "    return nz.iloc[-1][col_left] / nz.iloc[-1][col_right]\n",
    "\n",
    "\n",
    "def _fetch_bridge_chunk(keyword: str, center: datetime,\n",
    "                        fetch_chunk: Callable[[str, datetime, datetime], pd.DataFrame]\n",
    "                        ) -> pd.DataFrame | None:\n",
    "    \"\"\"overlap ±100일 범위 재크롤링. 데이터 없으면 None.\"\"\"\n",
    "    win_start = max(START_DATE, center - timedelta(days=BRIDGE_HALF_WINDOW))\n",
    "    win_end   = min(END_DATE,   center + timedelta(days=BRIDGE_HALF_WINDOW))\n",
    "    cache_fp = BRIDGE_CACHE_DIR / f\"{keyword}_{win_start:%Y%m%d}_{win_end:%Y%m%d}.json\"\n",
    "\n",
    "    if cache_fp.exists():\n",
    "        data = json.loads(cache_fp.read_text(encoding=\"utf-8\"))\n",
    "    else:\n",
    "        params = {\n",
    "            \"api_key\": API_KEY,\n",
    "            \"engine\": \"google_trends\",\n",
    "            \"q\": keyword,\n",
    "            \"date\": f\"{win_start:%Y-%m-%d} {win_end:%Y-%m-%d}\",\n",
    "            \"data_type\": \"TIMESERIES\",\n",
    "            \"output\": \"json\",\n",
    "        }\n",
    "        try:\n",
    "            data = GoogleSearch(params).get_dict()\n",
    "        except Exception as e:\n",
    "            logger.error(\"SerpApi 브리지 요청 실패 (%s): %s\", keyword, e)\n",
    "            return None\n",
    "        cache_fp.write_text(json.dumps(data, ensure_ascii=False, indent=2), encoding=\"utf-8\")\n",
    "\n",
    "    timeline = (\n",
    "        data.get(\"interest_over_time\", {}).get(\"timeline\")\n",
    "        or data.get(\"interest_over_time\", {}).get(\"timeline_data\")\n",
    "        or []\n",
    "    )\n",
    "    rows = [r for item in timeline if (r := timeline_item_to_row(item))]\n",
    "    if not rows:\n",
    "        return None\n",
    "    df = pd.DataFrame(rows)\n",
    "    df[\"season\"] = -1\n",
    "    return df\n",
    "\n",
    "\n",
    "def rescale_with_bridge(keyword: str,\n",
    "                        frames: List[pd.DataFrame],\n",
    "                        fetch_chunk: Callable[[str, datetime, datetime], pd.DataFrame]\n",
    "                        ) -> List[pd.DataFrame] | None:\n",
    "    if not frames:\n",
    "        return None\n",
    "    scaled: List[pd.DataFrame] = [frames[0].copy()]\n",
    "    scaled[0][\"scaled_value\"] = scaled[0][\"value\"]\n",
    "\n",
    "    for i in range(1, len(frames)):\n",
    "        prev = scaled[-1]\n",
    "        curr = frames[i].copy()\n",
    "        overlap_day = curr.iloc[0][\"date\"]\n",
    "        prev_val = prev.loc[prev[\"date\"] == overlap_day, \"scaled_value\"].values[0]\n",
    "        curr_val = curr.loc[curr[\"date\"] == overlap_day, \"value\"].values[0]\n",
    "\n",
    "        if prev_val != 0 and curr_val != 0:             # 체인-링킹 OK\n",
    "            curr[\"scaled_value\"] = curr[\"value\"] * (prev_val / curr_val)\n",
    "            scaled.append(curr)\n",
    "            continue\n",
    "\n",
    "        bridge = _fetch_bridge_chunk(keyword, overlap_day, fetch_chunk)\n",
    "        if bridge is None or bridge.empty:\n",
    "            logger.debug(\"%s bridge-fail(empty)\", keyword)\n",
    "            return None\n",
    "\n",
    "        r1 = _compute_ratio(prev, bridge, \"scaled_value\", \"value\")\n",
    "        if r1 is None:\n",
    "            logger.debug(\"%s bridge-fail(prev-bridge)\", keyword)\n",
    "            return None\n",
    "        bridge[\"scaled_value\"] = bridge[\"value\"] * r1\n",
    "        r2 = _compute_ratio(bridge, curr, \"scaled_value\", \"value\")\n",
    "        if r2 is None:\n",
    "            logger.debug(\"%s bridge-fail(bridge-curr)\", keyword)\n",
    "            return None\n",
    "\n",
    "        curr[\"scaled_value\"] = curr[\"value\"] * r1 * r2\n",
    "        scaled.append(curr)\n",
    "    return scaled\n",
    "\n",
    "\n",
    "# ────────── SerpApi fetch & 공통 유틸\n",
    "def parse_value(v) -> int:\n",
    "    if v in (\"<1\", \"\", None):\n",
    "        return 0\n",
    "    try:\n",
    "        return int(str(v).replace(\",\", \"\"))\n",
    "    except Exception:\n",
    "        return 0\n",
    "\n",
    "\n",
    "def timeline_item_to_row(item) -> dict | None:\n",
    "    if \"date\" in item and item[\"date\"]:\n",
    "        d = pd.to_datetime(item[\"date\"], utc=True, errors=\"coerce\")\n",
    "    else:\n",
    "        d = pd.NaT\n",
    "    if pd.isna(d) and \"timestamp\" in item:\n",
    "        d = pd.to_datetime(int(item[\"timestamp\"]), unit=\"s\", utc=True, errors=\"coerce\")\n",
    "    if pd.isna(d):\n",
    "        return None\n",
    "    v = parse_value(item.get(\"value\") or item.get(\"values\", [{}])[0].get(\"value\"))\n",
    "    return {\"date\": d, \"value\": v}\n",
    "\n",
    "\n",
    "def fetch_chunk(keyword: str, begin: datetime, finish: datetime) -> pd.DataFrame:\n",
    "    cache_fp = CACHE_DIR / f\"{keyword}_{begin:%Y%m%d}_{finish:%Y%m%d}.json\"\n",
    "    if cache_fp.exists():\n",
    "        data = json.loads(cache_fp.read_text(encoding=\"utf-8\"))\n",
    "    else:\n",
    "        params = {\n",
    "            \"api_key\": API_KEY,\n",
    "            \"engine\": \"google_trends\",\n",
    "            \"q\": keyword,\n",
    "            \"date\": f\"{begin:%Y-%m-%d} {finish:%Y-%m-%d}\",\n",
    "            \"data_type\": \"TIMESERIES\",\n",
    "            \"output\": \"json\",\n",
    "        }\n",
    "        try:\n",
    "            data = GoogleSearch(params).get_dict()\n",
    "        except Exception as e:\n",
    "            logger.error(\"SerpApi 요청 실패 (%s): %s\", keyword, e)\n",
    "            raise\n",
    "        cache_fp.write_text(json.dumps(data, ensure_ascii=False, indent=2), encoding=\"utf-8\")\n",
    "\n",
    "    timeline = (\n",
    "        data.get(\"interest_over_time\", {}).get(\"timeline\")\n",
    "        or data.get(\"interest_over_time\", {}).get(\"timeline_data\")\n",
    "        or []\n",
    "    )\n",
    "    rows = [r for item in timeline if (r := timeline_item_to_row(item))]\n",
    "    return pd.DataFrame(rows)\n",
    "\n",
    "\n",
    "def append_csv(path: Path, df: pd.DataFrame):\n",
    "    df.to_csv(path, mode=\"a\", header=not path.exists(), index=False)\n",
    "\n",
    "\n",
    "# ────────── 메인\n",
    "def main():\n",
    "    if not BAD_CSV.exists():\n",
    "        logger.info(\"unlinkable_keywords.csv 가 없습니다.\")\n",
    "        return\n",
    "    bad_df = pd.read_csv(BAD_CSV)\n",
    "    if bad_df.empty or \"name\" not in bad_df.columns:\n",
    "        logger.info(\"처리할 키워드가 없습니다.\")\n",
    "        return\n",
    "    targets = bad_df[\"name\"].dropna().unique().tolist()\n",
    "    logger.info(\"재시도 대상: %d\", len(targets))\n",
    "\n",
    "    RAW_CSV.parent.mkdir(parents=True, exist_ok=True)\n",
    "    for p in (RAW_CSV, SCALED_CSV):\n",
    "        if not p.exists():\n",
    "            p.write_text(\"\")\n",
    "    sched = generate_chunks(START_DATE, END_DATE)\n",
    "    remain: List[dict] = []\n",
    "\n",
    "    for kw in tqdm(targets, desc=\"Bridge-relink\"):\n",
    "        raw_frames = []\n",
    "        for i, (s, e) in enumerate(sched):\n",
    "            df = fetch_chunk(kw, s, e)\n",
    "            df[\"season\"] = i + 1\n",
    "            raw_frames.append(df)\n",
    "\n",
    "        bad, reason = has_bad_edges(raw_frames)\n",
    "        if bad:\n",
    "            logger.info(\"⏭  %s skip – %s\", kw, reason)\n",
    "            remain.append({\"name\": kw, \"reason\": reason})\n",
    "            continue\n",
    "\n",
    "        scaled_frames = rescale_with_bridge(kw, raw_frames, fetch_chunk)\n",
    "        if scaled_frames is None:\n",
    "            logger.info(\"⏭  %s skip – bridge_fail\", kw)\n",
    "            remain.append({\"name\": kw, \"reason\": \"bridge_fail\"})\n",
    "            continue\n",
    "\n",
    "        raw_all = pd.concat(raw_frames, ignore_index=True)\n",
    "        raw_all.insert(0, \"name\", kw)\n",
    "        append_csv(RAW_CSV, raw_all)\n",
    "\n",
    "        scaled_all = pd.concat(scaled_frames, ignore_index=True)\n",
    "        scaled_all.insert(0, \"name\", kw)\n",
    "        append_csv(SCALED_CSV, scaled_all)\n",
    "\n",
    "        logger.info(\"✔︎  %s 완료 (%d rows)\", kw, len(raw_all))\n",
    "\n",
    "    pd.DataFrame(remain).to_csv(BAD_CSV, index=False)\n",
    "    logger.info(\"남은 실패 %d → unlinkable_keywords.csv 갱신\", len(remain))\n",
    "\n",
    "\n",
    "if __name__ == \"__main__\":\n",
    "    try:\n",
    "        main()\n",
    "    except KeyboardInterrupt:\n",
    "        logger.warning(\"Interrupted by user.\")\n"
   ]
  },
  {
   "cell_type": "code",
   "execution_count": 13,
   "id": "70647526",
   "metadata": {},
   "outputs": [
    {
     "name": "stdout",
     "output_type": "stream",
     "text": [
      "Columns in CSV: ['name', 'date', 'value', 'season', 'scaled_value']\n"
     ]
    },
    {
     "data": {
      "image/png": "[encoded data removed]",
      "text/plain": [
       "<Figure size 640x480 with 1 Axes>"
      ]
     },
     "metadata": {},
     "output_type": "display_data"
    }
   ],
   "source": [
    "import pandas as pd\n",
    "import matplotlib.pyplot as plt\n",
    "\n",
    "# 파일 경로\n",
    "file_path = 'data/scaled_trends_bridge.csv'\n",
    "\n",
    "# CSV 읽기\n",
    "df = pd.read_csv(file_path)\n",
    "\n",
    "# 컬럼 확인\n",
    "print(\"Columns in CSV:\", df.columns.tolist())\n",
    "\n",
    "# 날짜 컬럼 자동 탐지\n",
    "date_col = next((c for c in df.columns if 'date' in c.lower()), None)\n",
    "if date_col is None:\n",
    "    raise ValueError(\"No date-like column found in CSV.\")\n",
    "\n",
    "# 문자열을 datetime으로 변환\n",
    "df[date_col] = pd.to_datetime(df[date_col], errors='coerce')\n",
    "\n",
    "# \"Kamala Harris\" 필터\n",
    "df_kh = df[df['name'] == 'Kamala Harris']\n",
    "\n",
    "if df_kh.empty:\n",
    "    print(\"No records found for 'Kamala Harris'.\")\n",
    "else:\n",
    "    # 플롯 그리기\n",
    "    plt.figure()\n",
    "    plt.plot(df_kh[date_col], df_kh['scaled_value'])\n",
    "    plt.xlabel('Date')\n",
    "    plt.ylabel('Scaled Value')\n",
    "    plt.title('Scaled Trends for Kamala Harris')\n",
    "    plt.tight_layout()\n",
    "    plt.show()\n"
   ]
  },
  {
   "cell_type": "code",
   "execution_count": 14,
   "id": "c4baf091",
   "metadata": {},
   "outputs": [
    {
     "name": "stdout",
     "output_type": "stream",
     "text": [
      "Merged saved to data/scaled_trends_merged_bridge.csv\n",
      "Unique names saved to data/scaled_trends_merged_bridge_names.csv\n"
     ]
    }
   ],
   "source": [
    "import pandas as pd\n",
    "\n",
    "# 파일 경로 설정\n",
    "orig_fp    = 'data/scaled_trends.csv'\n",
    "bridge_fp  = 'data/scaled_trends_bridge.csv'\n",
    "merged_fp  = 'data/scaled_trends_merged_bridge.csv'\n",
    "names_fp   = 'data/scaled_trends_merged_bridge_names.csv'\n",
    "\n",
    "# 1) CSV 읽기\n",
    "orig   = pd.read_csv(orig_fp, parse_dates=['date'])\n",
    "bridge = pd.read_csv(bridge_fp, parse_dates=['date'])\n",
    "\n",
    "# 2) 중복 제거: orig에서 bridge에 있는 (name, date) 행 삭제\n",
    "#    fast membership check 을 위해 튜플 집합 생성\n",
    "bridge_keys = set(zip(bridge['name'], bridge['date']))\n",
    "mask = orig.apply(lambda row: (row['name'], row['date']) not in bridge_keys, axis=1)\n",
    "orig_filtered = orig[mask]\n",
    "\n",
    "# 3) 합치기\n",
    "merged = pd.concat([orig_filtered, bridge], ignore_index=True)\n",
    "merged.sort_values(['name', 'date'], inplace=True)\n",
    "\n",
    "# 4) 결과 저장\n",
    "merged.to_csv(merged_fp, index=False)\n",
    "\n",
    "# 5) name 집합 저장\n",
    "names_df = pd.DataFrame({'name': merged['name'].unique()})\n",
    "names_df.to_csv(names_fp, index=False)\n",
    "\n",
    "print(f\"Merged saved to {merged_fp}\")\n",
    "print(f\"Unique names saved to {names_fp}\")\n"
   ]
  },
  {
   "cell_type": "code",
   "execution_count": 15,
   "id": "6d304ea7",
   "metadata": {},
   "outputs": [
    {
     "name": "stdout",
     "output_type": "stream",
     "text": [
      "Person info saved to data/scaled_trends_merged_bridge_person_info.csv\n"
     ]
    }
   ],
   "source": [
    "import pandas as pd\n",
    "\n",
    "# 파일 경로 설정\n",
    "merged_fp      = 'data/scaled_trends_merged_bridge.csv'\n",
    "final_fp       = 'final.csv'\n",
    "info_output_fp = 'data/scaled_trends_merged_bridge_person_info.csv'\n",
    "\n",
    "# 1) Merge 결과 읽기\n",
    "merged = pd.read_csv(merged_fp)\n",
    "merged_names = set(merged['name'].dropna().unique())\n",
    "\n",
    "# 2) final.csv에서 모든 컬럼 읽기\n",
    "final_df = pd.read_csv(final_fp)\n",
    "\n",
    "# 3) Merge에 포함된 이름으로 final 정보 필터링\n",
    "filtered_info = final_df[final_df['name'].isin(merged_names)]\n",
    "\n",
    "# 4) 필터링된 정보 저장\n",
    "filtered_info.to_csv(info_output_fp, index=False)\n",
    "\n",
    "print(f\"Person info saved to {info_output_fp}\")\n"
   ]
  },
  {
   "cell_type": "code",
   "execution_count": null,
   "id": "a0d5cdc4",
   "metadata": {},
   "outputs": [
    {
     "name": "stdout",
     "output_type": "stream",
     "text": [
      "✔ 저장 완료: final_with_jump_s_esd_plus.csv (293 rows)\n"
     ]
    }
   ],
   "source": [
    "#!/usr/bin/env python3\n",
    "# -*- coding: utf-8 -*-\n",
    "\"\"\"\n",
    "merge_jump_dates.py\n",
    "────────────────────────────────────────────────────────────\n",
    "· volatility_jumps_pos.csv → 인물별 jump 날짜(YYYYMMDD) 리스트 생성\n",
    "· final.csv 과 머지 후 jump 없는 인물 행 제거\n",
    "· 결과: final_with_jump_dates.csv\n",
    "\"\"\"\n",
    "\n",
    "from pathlib import Path\n",
    "import pandas as pd\n",
    "\n",
    "# ───────────────────────── 파일 경로\n",
    "JUMP_CSV  = Path(\"data/volatility_jumps_pos_sh_esd_plus.csv\")\n",
    "FINAL_CSV = Path(\"final.csv\")\n",
    "OUT_CSV   = Path(\"final_with_jump_s_esd_plus.csv\")\n",
    "\n",
    "# ───────────────────────── 1) 점프 날짜 집계\n",
    "jumps = (\n",
    "    pd.read_csv(JUMP_CSV, parse_dates=[\"date\"])\n",
    "      .loc[lambda df: df[\"vol_jump\"]]           # 혹시 모를 False 제외\n",
    ")\n",
    "\n",
    "# 날짜를 YYYYMMDD 정수로 변환\n",
    "jumps[\"date_int\"] = jumps[\"date\"].dt.strftime(\"%Y%m%d\").astype(int)\n",
    "\n",
    "# 인물별 날짜 리스트\n",
    "jump_dates = (s\n",
    "    jumps.groupby(\"name\")[\"date_int\"]\n",
    "         .apply(lambda x: sorted(x.unique().tolist()))   # 중복 제거·정렬\n",
    "         .reset_index(name=\"vol_jump_dates\")\n",
    ")\n",
    "\n",
    "# ───────────────────────── 2) final.csv 과 머지\n",
    "final_df = pd.read_csv(FINAL_CSV)\n",
    "\n",
    "merged = (\n",
    "    final_df.merge(jump_dates, on=\"name\", how=\"inner\")   # jump 없는 인물 제거\n",
    "          .sort_values(\"name\")\n",
    "          .reset_index(drop=True)\n",
    ")\n",
    "\n",
    "# ───────────────────────── 3) 저장\n",
    "merged.to_csv(OUT_CSV, index=False)\n",
    "print(f\"✔ 저장 완료: {OUT_CSV} ({len(merged)} rows)\")\n"
   ]
  },
  {
   "cell_type": "code",
   "execution_count": 2,
   "id": "17fcd09c",
   "metadata": {},
   "outputs": [
    {
     "name": "stdout",
     "output_type": "stream",
     "text": [
      "INFO: Loaded 347 keywords\n"
     ]
    },
    {
     "name": "stderr",
     "output_type": "stream",
     "text": [
      "Keywords:   0%|          | 0/347 [00:00<?, ?it/s]"
     ]
    },
    {
     "name": "stdout",
     "output_type": "stream",
     "text": [
      "Donald Trump:2023-01-01 2023-01-31\n",
      "Donald Trump:2023-02-01 2023-02-28\n",
      "Donald Trump:2023-03-01 2023-03-31\n",
      "Donald Trump:2023-04-01 2023-04-30\n",
      "Donald Trump:2023-05-01 2023-05-31\n",
      "Donald Trump:2023-06-01 2023-06-30\n",
      "Donald Trump:2023-07-01 2023-07-31\n",
      "Donald Trump:2023-08-01 2023-08-31\n",
      "Donald Trump:2023-09-01 2023-09-30\n",
      "Donald Trump:2023-10-01 2023-10-31\n",
      "Donald Trump:2023-11-01 2023-11-30\n",
      "Donald Trump:2023-12-01 2023-12-31\n",
      "Donald Trump:2024-01-01 2024-01-31\n",
      "Donald Trump:2024-02-01 2024-02-29\n",
      "Donald Trump:2024-03-01 2024-03-31\n"
     ]
    },
    {
     "name": "stderr",
     "output_type": "stream",
     "text": [
      "Keywords:   0%|          | 0/347 [01:41<?, ?it/s]"
     ]
    },
    {
     "name": "stdout",
     "output_type": "stream",
     "text": [
      "WARNING: Interrupted by user. Exit.\n"
     ]
    },
    {
     "name": "stderr",
     "output_type": "stream",
     "text": [
      "\n"
     ]
    }
   ],
   "source": [
    "#!/usr/bin/env python3\n",
    "# -*- coding: utf-8 -*-\n",
    "\"\"\"\n",
    "google_trend_crawl_pytrends.py   (2025-07-02, full standalone)\n",
    "\n",
    "Roy et al.(2023) 의 ‘일(日) → 월(月) 스케일 변환’ 알고리즘을\n",
    "`pytrends.dailydata.get_daily_data()` 함수로 그대로 구현하였다. \n",
    "함수는 (i) 월별 전체 히트(0–100), (ii) 달별 일별 히트(0–100) 두 가지를\n",
    "동시에 다운로드하고, 내부적으로 일별 × (월별 ÷ 100) 연산으로\n",
    "**연속적이고 비교 가능** 한 일별 시계열을 반환한다.\n",
    "\n",
    "출력 형식과 폴더 구조는 SerpApi 스크립트와 동일.\n",
    "필수 패키지\n",
    "──────────\n",
    "pip install python-dotenv pandas python-dateutil pytrends tqdm\n",
    "\"\"\"\n",
    "from __future__ import annotations\n",
    "\n",
    "import logging\n",
    "import sys\n",
    "from datetime import datetime, timezone\n",
    "from pathlib import Path\n",
    "from typing import List\n",
    "\n",
    "import pandas as pd\n",
    "from dotenv import load_dotenv         # 환경변수(x 필요하지만 일관성 유지용)\n",
    "from pytrends.dailydata import get_daily_data   # core 함수\n",
    "from tqdm import tqdm\n",
    "\n",
    "# ────────────────────────────── 설정\n",
    "START_YEAR, START_MONTH = 2023, 1\n",
    "END_YEAR,   END_MONTH   = 2025, 5\n",
    "\n",
    "RAW_CSV    = Path(\"data/raw_pytrends.csv\")\n",
    "SCALED_CSV = Path(\"data/scaled_pytrends.csv\")\n",
    "BAD_CSV    = Path(\"data/unlinkable_keywords_py.csv\")\n",
    "\n",
    "LOG_FILE   = Path(\"logs/trend_crawler_pytrends.log\")\n",
    "CACHE_DIR  = Path(\"cache/pytrends_parquet\")\n",
    "CACHE_DIR.mkdir(parents=True, exist_ok=True)\n",
    "\n",
    "# ────────────────────────────── 로깅\n",
    "LOG_FILE.parent.mkdir(parents=True, exist_ok=True)\n",
    "fmt = logging.Formatter(\"%(asctime)s %(levelname)s %(message)s\")\n",
    "\n",
    "file_handler = logging.FileHandler(LOG_FILE, mode=\"a\", encoding=\"utf-8\")\n",
    "file_handler.setLevel(logging.DEBUG)\n",
    "file_handler.setFormatter(fmt)\n",
    "\n",
    "console = logging.StreamHandler(sys.stdout)\n",
    "console.setLevel(logging.INFO)\n",
    "console.setFormatter(logging.Formatter(\"%(levelname)s: %(message)s\"))\n",
    "\n",
    "logger = logging.getLogger(\"pytrends\")\n",
    "if not logger.handlers:\n",
    "    logger.setLevel(logging.DEBUG)\n",
    "    logger.addHandler(file_handler)\n",
    "    logger.addHandler(console)\n",
    "else:\n",
    "    if not any(isinstance(h, logging.StreamHandler) and h.stream is sys.stdout\n",
    "               for h in logger.handlers):\n",
    "        logger.addHandler(console)\n",
    "\n",
    "# ────────────────────────────── util\n",
    "def fetch_daily_scaled(keyword: str,\n",
    "                       start_y: int, start_m: int,\n",
    "                       end_y: int, end_m: int,\n",
    "                       geo: str = \"\") -> pd.DataFrame:\n",
    "    \"\"\"\n",
    "    get_daily_data() → 일별 value 열(Already Scaled), season = YYYY-MM.\n",
    "    결과는 parquet 캐시로 저장.\n",
    "    \"\"\"\n",
    "    cache_fp = CACHE_DIR / f\"{keyword}_{start_y}{start_m:02d}_{end_y}{end_m:02d}.parquet\"\n",
    "    if cache_fp.exists():\n",
    "        return pd.read_parquet(cache_fp)\n",
    "\n",
    "    df = get_daily_data(keyword, start_y, start_m, end_y, end_m, geo=geo)\n",
    "\n",
    "    # pytrends 열 이름:\n",
    "    #   keyword              ← 일별 히트(스케일 완료)\n",
    "    #   f'{kw}_unscaled'     ← 달 내부 0–100\n",
    "    #   f'{kw}_monthly'      ← 월별 0–100\n",
    "    #   'scale'              ← 적용된 스케일 계수\n",
    "    daily_col   = keyword\n",
    "    monthly_col = f\"{keyword}_monthly\"\n",
    "\n",
    "    df.reset_index(inplace=True)           # index → 'date'\n",
    "    df.rename(columns={daily_col: \"value\",\n",
    "                       monthly_col: \"monthly_raw\"}, inplace=True)\n",
    "\n",
    "    # 전체 월이 0 → 링크 불가\n",
    "    if df[\"monthly_raw\"].sum() == 0:\n",
    "        raise ValueError(\"all-zero monthly hits\")\n",
    "\n",
    "    df[\"season\"] = df[\"date\"].dt.strftime(\"%Y-%m\")\n",
    "    df = df[[\"date\", \"value\", \"season\"]]\n",
    "\n",
    "    df.to_parquet(cache_fp, index=False)\n",
    "    return df\n",
    "\n",
    "\n",
    "def append_csv(p: Path, df: pd.DataFrame):\n",
    "    header = not p.exists()\n",
    "    df.to_csv(p, mode=\"a\", header=header, index=False)\n",
    "\n",
    "\n",
    "# ────────────────────────────── main\n",
    "def main():\n",
    "    # .env 호환 유지(딱히 쓸 API 없어도 로딩)\n",
    "    load_dotenv()\n",
    "\n",
    "    key_csv = Path(\"final.csv\")\n",
    "    if not key_csv.exists():\n",
    "        logger.error(\"final.csv 가 없습니다.\")\n",
    "        return\n",
    "    keywords: List[str] = pd.read_csv(key_csv, usecols=[\"name\"])[\"name\"].dropna().unique().tolist()\n",
    "    logger.info(\"Loaded %d keywords\", len(keywords))\n",
    "\n",
    "    RAW_CSV.parent.mkdir(parents=True, exist_ok=True)\n",
    "    for p in (RAW_CSV, SCALED_CSV, BAD_CSV):\n",
    "        if not p.exists():\n",
    "            p.parent.mkdir(parents=True, exist_ok=True)\n",
    "            p.write_text(\"\")\n",
    "\n",
    "    for kw in tqdm(keywords, desc=\"Keywords\"):\n",
    "        try:\n",
    "            df = fetch_daily_scaled(kw, START_YEAR, START_MONTH, END_YEAR, END_MONTH, geo=\"\")\n",
    "        except ValueError as e:          # 월 전체 0\n",
    "            logger.info(\"⏭  %s skipped – %s\", kw, e)\n",
    "            append_csv(BAD_CSV, pd.DataFrame([{\"name\": kw, \"reason\": str(e)}]))\n",
    "            continue\n",
    "\n",
    "        # 논문 단계 ②: 전체 기간에서 최대값 → 100으로 재정규화\n",
    "        df[\"scaled_value\"] = (df[\"value\"] / df[\"value\"].max()) * 100\n",
    "\n",
    "        raw_out    = df.assign(name=kw)[[\"name\", \"date\", \"value\", \"season\"]]\n",
    "        scaled_out = df.assign(name=kw)[[\"name\", \"date\", \"value\", \"season\", \"scaled_value\"]]\n",
    "        append_csv(RAW_CSV, raw_out)\n",
    "        append_csv(SCALED_CSV, scaled_out)\n",
    "\n",
    "        logger.info(\"✔︎  %s 완료 (%d rows)\", kw, len(raw_out))\n",
    "\n",
    "    logger.info(\"All done → %s / %s / %s\", RAW_CSV, SCALED_CSV, BAD_CSV)\n",
    "\n",
    "\n",
    "if __name__ == \"__main__\":\n",
    "    try:\n",
    "        main()\n",
    "    except KeyboardInterrupt:\n",
    "        logger.warning(\"Interrupted by user. Exit.\")\n"
   ]
  },
  {
   "cell_type": "code",
   "execution_count": null,
   "id": "d0fba709",
   "metadata": {},
   "outputs": [],
   "source": [
    "#!/usr/bin/env python3\n",
    "# -*- coding: utf-8 -*-\n",
    "\"\"\"\n",
    "google_trend_crawl_monthscale.py  (2025-07-02)\n",
    "\n",
    "• final.csv 의 name 열을 읽어 2023-01-01~2025-05-31(UTC) 기간\n",
    "  - ① [전 기간] 주간 GSV → 월 스케일(month_scale) 추출\n",
    "  - ② [각 달]  일간 GSV 수집 → scaled_value = daily * (month_scale / 100)\n",
    "• 결과 CSV\n",
    "  · data/raw_trends.csv        name,date,value\n",
    "  · data/scaled_trends.csv     name,date,value,scaled_value\n",
    "  · data/unlinkable_keywords.csv name,reason\n",
    "\"\"\"\n",
    "from __future__ import annotations\n",
    "\n",
    "import json, logging, os, sys\n",
    "from datetime import datetime, timedelta, timezone\n",
    "from pathlib import Path\n",
    "from typing import List\n",
    "\n",
    "import pandas as pd\n",
    "from dotenv import load_dotenv\n",
    "from serpapi import GoogleSearch\n",
    "from tqdm import tqdm\n",
    "\n",
    "# ────────────────────────────── 설정\n",
    "START = datetime(2023, 1, 1, tzinfo=timezone.utc)\n",
    "END   = datetime(2025, 6, 30, tzinfo=timezone.utc)\n",
    "\n",
    "RAW_CSV    = Path(\"data/raw_trends_2.csv\")\n",
    "SCALED_CSV = Path(\"data/scaled_trends_2.csv\")\n",
    "BAD_CSV    = Path(\"data/unlinkable_keywords_2.csv\")\n",
    "\n",
    "LOG_FILE   = Path(\"logs/trend_crawler.log\")\n",
    "CACHE_DIR  = Path(\"cache/trends_json_2\"); CACHE_DIR.mkdir(parents=True, exist_ok=True)\n",
    "\n",
    "# ────────────────────────────── 로깅\n",
    "fmt = logging.Formatter(\"%(asctime)s %(levelname)s | %(message)s\")\n",
    "LOG_FILE.parent.mkdir(parents=True, exist_ok=True)\n",
    "fh = logging.FileHandler(LOG_FILE, mode=\"a\", encoding=\"utf-8\"); fh.setFormatter(fmt)\n",
    "ch = logging.StreamHandler(sys.stdout); ch.setFormatter(logging.Formatter(\"%(levelname)s: %(message)s\"))\n",
    "logger = logging.getLogger()\n",
    "logger.setLevel(logging.DEBUG); logger.addHandler(fh); logger.addHandler(ch)\n",
    "\n",
    "# ────────────────────────────── API 키\n",
    "load_dotenv()\n",
    "API_KEY = os.getenv(\"SERPAPI_KEY\") or sys.exit(\"SERPAPI_KEY 없음 (.env)\")\n",
    "\n",
    "# ────────────────────────────── 공통 함수\n",
    "def serpapi_call(q: str, date_param: str) -> dict:\n",
    "    params = {\"engine\": \"google_trends\", \"api_key\": API_KEY, \"q\": q,\n",
    "              \"data_type\": \"TIMESERIES\", \"date\": date_param, \"output\": \"json\"}\n",
    "    cache_fp = CACHE_DIR / f\"{q}_{date_param.replace(' ','_')}.json\"\n",
    "    if cache_fp.exists():\n",
    "        return json.loads(cache_fp.read_text(encoding=\"utf-8\"))\n",
    "    data = GoogleSearch(params).get_dict(); cache_fp.write_text(json.dumps(data), encoding=\"utf-8\")\n",
    "    return data\n",
    "\n",
    "def timeline_to_df(tl: list[dict], q: str) -> pd.DataFrame:\n",
    "    rows = []\n",
    "    for item in tl:\n",
    "        ts = int(item.get(\"timestamp\", 0))\n",
    "        if not ts: continue\n",
    "        d  = pd.to_datetime(ts, unit=\"s\", utc=True)\n",
    "        val = int(item[\"values\"][0][\"extracted_value\"]) if \"values\" in item else int(item[\"value\"])\n",
    "        rows.append({\"date\": d, \"value\": val, \"query\": q})\n",
    "    return pd.DataFrame(rows)\n",
    "\n",
    "# ────────────────────────────── 월 스케일 구하기\n",
    "def fetch_month_scales(keyword: str) -> pd.Series:\n",
    "    data = serpapi_call(keyword, f\"{START:%Y-%m-%d} {END:%Y-%m-%d}\")\n",
    "    tl = data.get(\"interest_over_time\", {}).get(\"timeline_data\", [])\n",
    "    if not tl:\n",
    "        return pd.Series(dtype=int)\n",
    "    weekly = timeline_to_df(tl, keyword).set_index(\"date\")[\"value\"]\n",
    "    month_scale = weekly.resample(\"M\").max().astype(int)      # 월별 최대값 사용\n",
    "    month_scale.index = month_scale.index.tz_localize(\"UTC\") # index 일치\n",
    "    return month_scale\n",
    "\n",
    "# ────────────────────────────── 일간 데이터 수집 → 재스케일\n",
    "def fetch_month_daily(keyword: str, month_start: datetime, month_end: datetime,\n",
    "                      month_scale: int) -> pd.DataFrame:\n",
    "    if month_scale == 0:  # 스케일 0 → 그대로 0\n",
    "        dts = pd.date_range(month_start, month_end, freq=\"D\", tz=\"UTC\")\n",
    "        return pd.DataFrame({\"date\": dts, \"value\": 0, \"scaled_value\": 0})\n",
    "    data = serpapi_call(keyword, f\"{month_start:%Y-%m-%d} {month_end:%Y-%m-%d}\")\n",
    "    tl = data.get(\"interest_over_time\", {}).get(\"timeline_data\", [])\n",
    "    if not tl:\n",
    "        logger.warning(\"%s: 일간 데이터 없음 %s\", keyword, month_start.date())\n",
    "        return pd.DataFrame()\n",
    "    daily = timeline_to_df(tl, keyword)\n",
    "    daily[\"scaled_value\"] = daily[\"value\"] * (month_scale / 100)\n",
    "    return daily[[\"date\", \"value\", \"scaled_value\"]]\n",
    "\n",
    "# ────────────────────────────── main\n",
    "def main():\n",
    "    kw_list = pd.read_csv(\"final.csv\", usecols=[\"name\"])[\"name\"].dropna().unique().tolist()\n",
    "    for p in (RAW_CSV, SCALED_CSV, BAD_CSV):\n",
    "        if not p.exists(): p.parent.mkdir(parents=True, exist_ok=True); p.write_text(\"\")\n",
    "\n",
    "    months = pd.period_range(START, END, freq=\"M\")\n",
    "\n",
    "    for kw in tqdm(kw_list, desc=\"Keywords\"):\n",
    "        month_scales = fetch_month_scales(kw)\n",
    "        if month_scales.empty:\n",
    "            append = pd.DataFrame([{\"name\": kw, \"reason\": \"no_month_scale\"}])\n",
    "            append.to_csv(BAD_CSV, mode=\"a\", header=False, index=False)\n",
    "            continue\n",
    "\n",
    "        raw_rows, scaled_rows = [], []\n",
    "        for m in months:\n",
    "            ms, me = m.start_time, m.end_time\n",
    "            scale_val = month_scales.get(me, 0)\n",
    "            df_month = fetch_month_daily(kw, ms, me, scale_val)\n",
    "            if df_month.empty: continue\n",
    "            raw_rows.append(df_month[[\"date\", \"value\"]].copy())\n",
    "            scaled_rows.append(df_month)\n",
    "\n",
    "        if not raw_rows:\n",
    "            pd.DataFrame([{\"name\": kw, \"reason\": \"empty_all_months\"}]).to_csv(\n",
    "                BAD_CSV, mode=\"a\", header=False, index=False)\n",
    "            continue\n",
    "\n",
    "        raw_all = pd.concat(raw_rows, ignore_index=True);  raw_all.insert(0, \"name\", kw)\n",
    "        scaled_all = pd.concat(scaled_rows, ignore_index=True); scaled_all.insert(0, \"name\", kw)\n",
    "\n",
    "        raw_all.to_csv(RAW_CSV, mode=\"a\", header=not RAW_CSV.stat().st_size, index=False)\n",
    "        scaled_all.to_csv(SCALED_CSV, mode=\"a\", header=not SCALED_CSV.stat().st_size, index=False)\n",
    "\n",
    "        logger.info(\"✔ %s (%d rows)\", kw, len(raw_all))\n",
    "\n",
    "if __name__ == \"__main__\":\n",
    "    try:\n",
    "        main()\n",
    "    except KeyboardInterrupt:\n",
    "        logger.warning(\"Interrupted by user\")\n"
   ]
  }
 ],
 "metadata": {
  "kernelspec": {
   "display_name": "dbfilter",
   "language": "python",
   "name": "python3"
  },
  "language_info": {
   "codemirror_mode": {
    "name": "ipython",
    "version": 3
   },
   "file_extension": ".py",
   "mimetype": "text/x-python",
   "name": "python",
   "nbconvert_exporter": "python",
   "pygments_lexer": "ipython3",
   "version": "3.13.2"
  }
 },
 "nbformat": 4,
 "nbformat_minor": 5
}
